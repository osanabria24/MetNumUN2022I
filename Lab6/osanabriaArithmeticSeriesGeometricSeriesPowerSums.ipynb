{
  "nbformat": 4,
  "nbformat_minor": 0,
  "metadata": {
    "colab": {
      "name": "osanabriaArithmeticSeriesGeometricSeriesPowerSums.ipynb",
      "provenance": [],
      "collapsed_sections": []
    },
    "kernelspec": {
      "name": "python3",
      "display_name": "Python 3"
    }
  },
  "cells": [
    {
      "cell_type": "markdown",
      "metadata": {
        "id": "r4rXWI4gCN5B"
      },
      "source": [
        "# Arithmetic Series\n",
        "\n",
        "## Modified from Arithmetic Series -  [Wolfram MathWorld](https://mathworld.wolfram.com/ArithmeticSeries.html) - [wikipedia](https://en.wikipedia.org/wiki/Arithmetic_progression)\n",
        "\n",
        "\n",
        "An arithmetic sequence $\\{a_k\\}$ for $k=1, 2, ..., $ in which each term is computed from the previous one by adding (or subtracting) a constant $d$. \n",
        "\n",
        "\\begin{align*}\n",
        "a_1 & \\\\\n",
        "a_2 &\\ \\ =\\ \\ a_1 + d  \\\\\n",
        "a_3 &\\ \\ =\\ \\ a_2 + d \\ \\ =\\ \\ a_1 + 2d   \\\\\n",
        "a_4 &\\ \\ =\\ \\ a_3 + d \\ \\ =\\ \\ a_2 + 2d \\ \\ =\\ \\ a_1 + 3d  \\\\\n",
        "\\vdots\\\\\n",
        "a_k &\\ \\ =\\ \\ a_{(k-1)}+d \\ =\\  a_{(k-2)}+2d \\ =\\  \\ldots \\ =\\  \\ a_1+(k-1)d\n",
        "\\end{align*}\n",
        "\n",
        "Therefore, for $k>=1$,\n",
        "\n",
        "$$ a_k = a_1 + (k-1)d$$\n",
        "\n",
        "With $a_1$ and $d$ given.\n",
        "\n",
        "<br /> \n",
        "\n",
        "The sequence of the partial sum of the first $n$ terms of a sequence is called a series, in the case of an arithemetic sequence the series is called an arithmetic series.\n",
        "\n",
        "If  $a_1= 1$ and $d=1$ we have, the simplest arithmnetic sequence,  the natural numbers sequence $\\{a_k = k \\}$ for  $k=1, 2, ..., $  i.e. the seuqnece\n",
        "$$1, 2, ...,$$\n",
        "The  corresponmding series is \n",
        "$$ \n",
        "S_n = 1 + 2+ \\ldots + (n-1)+ n = \\sum_{k=1}^n k\n",
        "$$\n",
        "can be calculated as a function of $n$.\n",
        "\n",
        "Assume that we allign one $S_{n-1}$ with a second  $S_{n-1}$ that have the terms adden reverse order and you add term to term, we have\n",
        "\\begin{array}{llclclclclc}\n",
        "  S_{n-1} &=& 1 &+& 2 &+& \\ldots &+& (n-2) &+& (n-1) \\\\\n",
        "  S_{n-1} &=& (n-1)  &+& (n-2)  &+& \\ldots   &+& 2   &+& 1 \\\\\n",
        "   \\hline \\\\\n",
        "   2S_{n-1} &=& n  &+& n  &+& \\ldots   &+& n   &+& n \\\\\n",
        "\\end{array}\n",
        "so\n",
        "$$  2S_{n-1} = (n-1)n $$\n",
        "then\n",
        "$$  S_{n-1} = \\frac{1}{2} (n-1)n$$\n",
        "therefore \n",
        "$$  S_{n} = \\frac{1}{2} n(n+1)$$\n",
        "\n",
        "\n",
        "\\begin{align*}\n",
        "S_n &= \\sum_{k=1}^n a_k\t\\\\\n",
        "    &= \\sum_{k=1}^n[a_1+(k-1)d]\t\t\\\\\n",
        "    &= na_1 + d \\sum_{k=1}^n(k-1)\t\\\\\n",
        "    &= na_1 + d \\sum_{k=0}^{n-1} k\t\\\\\n",
        "    &= na_1 + d \\sum_{k=1}^{n-1} k\t\\\\\n",
        "    &= na_1 +  \\frac{1}{2} d(n-1)n\\\\\n",
        "\\end{align*}\n",
        "so \n",
        "$$ S_n =  \\frac{1}{2} n[2 a_1 +d(n-1)].$$\n",
        "\n",
        "Note, however, that\n",
        "$$a_1+a_n=a_1+[a_1+d(n-1)]=2a_1+d(n-1),$$ \t\n",
        "so\n",
        "$$S_n = \\frac{1}{2}n(a_1+a_n),$$\n",
        "\n",
        "\n",
        "or $n$ times the arithmetic mean of the first and last terms! This is the trick Gauss used as a schoolboy to solve the problem of summing the integers from $1$ to $100$ given as busy-work by his teacher. While his classmates toiled away doing the addition longhand, Gauss wrote a single number, the correct answer\n",
        "\n",
        "$$\\frac{1}{2}(100)(1+100)=50·101=5050$$ \t\n",
        "on his slate (Burton 1989, pp. 80-81; Hoffman 1998, p. 207). When the answers were examined, Gauss's proved to be the only correct one.\n",
        "\n",
        "<br /> \n",
        "\n",
        "If  the sequence starts at index $0$, $\\{a_k\\}$ for $ k=0, 1, 2, ..., $ we have\n",
        "\n",
        "\\begin{align*}\n",
        "a_0 & \\\\\n",
        "a_1 &\\ \\ =\\ \\ a_0 + d  \\\\\n",
        "a_2 &\\ \\ =\\ \\ a_1 + d \\ \\ =\\ \\ a_0 + 2d   \\\\\n",
        "a_3 &\\ \\ =\\ \\ a_2 + d \\ \\ =\\ \\ a_1 + 2d \\ \\ =\\ \\ a_0 + 3d  \\\\\n",
        "\\vdots\\\\\n",
        "a_k &\\ \\ =\\ \\ a_{(k-1)}+d \\ =\\  a_{(k-2)}+2d \\ =\\  \\ldots \\ = \\  \\ a_1+(k-1)d \\ \\ =\\ \\ a_0+kd\n",
        "\\end{align*}\n",
        "\n",
        "<br /> \n",
        "for given   $a_0$ and $d$.\n",
        "\n",
        "In this case the sum of the terms between $0$ and $n$ of  the arithemnetic sequence  is then given by\n",
        "\\begin{align*}\n",
        "S_n &= \\sum_{k=0}^{n} a_k\t\\\\\n",
        "    &= \\sum_{k=0}^{n}[a_0+kd]\t\t\\\\\n",
        "    &= (n+1) a_0 + d \\sum_{k=0}^{n} k\t\\\\\n",
        "    &= (n+1) a_0 + d \\sum_{k=1}^{} k\t\\\\\n",
        "    &=(n+1) a_0+  \\frac{1}{2} dn(n+1) \\\\\n",
        "\\end{align*}\n",
        "so \n",
        "$$ S_n =  \\frac{1}{2} (n+1)[2 a_0 + dn].$$\n",
        "<br /> \n",
        "$$ S_n =  \\frac{1}{2} (n+1)[a_0+ a_n].$$\n",
        "\n",
        "\n"
      ]
    },
    {
      "cell_type": "markdown",
      "metadata": {
        "id": "GfBh-QHRcods"
      },
      "source": [
        "### Code\n",
        "####  The simplest arithmetic sequence and series\n",
        "\n",
        "The simplest arithmnetic sequence is \n",
        "\n",
        "\n",
        "$$a_n = 1, 2, ...,$$"
      ]
    },
    {
      "cell_type": "markdown",
      "metadata": {
        "id": "n36eWqEXiktl"
      },
      "source": [
        "The following code plots the first $n = 15$ terms of the simplest arithmnetic sequence \n",
        "$$\\{a_n = n\\} \\text{ for } n =1,2,\\ldots  $$\n",
        "i.e\n",
        "$$\\{a_n = n\\} =1,2,\\ldots $$\n",
        "adn the corresponding terms of the simplest arithmnetic series \n",
        "$$  S_n = 1 + 2+ \\ldots + (n-1)+ n = \\sum_{k=1}^n k=  \\frac{1}{2} n(n+1)$$\n"
      ]
    },
    {
      "cell_type": "markdown",
      "metadata": {
        "id": "_VyGiunIZknK"
      },
      "source": [
        "Plot"
      ]
    },
    {
      "cell_type": "code",
      "metadata": {
        "colab": {
          "base_uri": "https://localhost:8080/",
          "height": 282
        },
        "id": "gx3Q4uo-ONCi",
        "outputId": "1e5a1742-6e99-4025-89cf-dfdbf5445d58"
      },
      "source": [
        "import matplotlib.pyplot as plt\n",
        "\n",
        "n = 15\n",
        "S_n = 0\n",
        "Serie_S_n=[]\n",
        "Sequence_a_n =[]\n",
        "for i in range(1,n+1):\n",
        "  S_n = S_n + i\n",
        "  Serie_S_n.append(S_n)\n",
        "  Sequence_a_n.append(i)\n",
        " \n",
        "plt.plot(Serie_S_n, color='black',label='Serie_S_n')\n",
        "plt.plot(Sequence_a_n, color='red',label='Sequence_a_n')\n",
        "plt.legend()\n",
        "\n",
        "\n"
      ],
      "execution_count": null,
      "outputs": [
        {
          "output_type": "execute_result",
          "data": {
            "text/plain": [
              "<matplotlib.legend.Legend at 0x7f37d70bf5d0>"
            ]
          },
          "metadata": {},
          "execution_count": 1
        },
        {
          "output_type": "display_data",
          "data": {
            "text/plain": [
              "<Figure size 432x288 with 1 Axes>"
            ],
            "image/png": "[encoded data removed]"
          },
          "metadata": {
            "needs_background": "light"
          }
        }
      ]
    },
    {
      "cell_type": "code",
      "metadata": {
        "colab": {
          "base_uri": "https://localhost:8080/"
        },
        "id": "o2es6b4cysQk",
        "outputId": "d91bcbd0-63cd-492d-d4dc-f1a8f67eab3d"
      },
      "source": [
        "Sequence_a_n"
      ],
      "execution_count": null,
      "outputs": [
        {
          "output_type": "execute_result",
          "data": {
            "text/plain": [
              "[1, 2, 3, 4, 5, 6, 7, 8, 9, 10, 11, 12, 13, 14, 15]"
            ]
          },
          "metadata": {},
          "execution_count": 2
        }
      ]
    },
    {
      "cell_type": "code",
      "metadata": {
        "colab": {
          "base_uri": "https://localhost:8080/"
        },
        "id": "T2VeBOBZ0ibg",
        "outputId": "bc13a57c-30cc-4254-c720-6ed5284c2186"
      },
      "source": [
        "Serie_S_n"
      ],
      "execution_count": null,
      "outputs": [
        {
          "output_type": "execute_result",
          "data": {
            "text/plain": [
              "[1, 3, 6, 10, 15, 21, 28, 36, 45, 55, 66, 78, 91, 105, 120]"
            ]
          },
          "metadata": {},
          "execution_count": 3
        }
      ]
    },
    {
      "cell_type": "markdown",
      "metadata": {
        "id": "0ybfJdHxZGvW"
      },
      "source": [
        "The following code computes the  $n=10000000$  term of the airthmetic series\n",
        "$$  S_n = 1 + 2+ \\ldots + (n-1)+ n = \\sum_{k=1}^n =  \\frac{1}{2} n(n+1)$$"
      ]
    },
    {
      "cell_type": "code",
      "metadata": {
        "colab": {
          "base_uri": "https://localhost:8080/"
        },
        "id": "99xYHDQycnol",
        "outputId": "2f01a02e-49a4-4d05-b16b-15fb3534ba1c"
      },
      "source": [
        "n = 10000000\n",
        "S_n = 0\n",
        "for i in range(1,n+1):  # range(n+1) goes form 1 to n\n",
        "  S_n = S_n + i \n",
        "print(S_n)"
      ],
      "execution_count": null,
      "outputs": [
        {
          "output_type": "stream",
          "name": "stdout",
          "text": [
            "50000005000000\n"
          ]
        }
      ]
    },
    {
      "cell_type": "code",
      "metadata": {
        "colab": {
          "base_uri": "https://localhost:8080/"
        },
        "id": "RGCSuDGHeFwH",
        "outputId": "acbe3001-1af1-497c-9573-d41038381ac1"
      },
      "source": [
        "(1/2)*n*(n+1)"
      ],
      "execution_count": null,
      "outputs": [
        {
          "output_type": "execute_result",
          "data": {
            "text/plain": [
              "50000005000000.0"
            ]
          },
          "metadata": {},
          "execution_count": 5
        }
      ]
    },
    {
      "cell_type": "markdown",
      "metadata": {
        "id": "bg8zxAhcecpk"
      },
      "source": [
        "The following code computes the $n=10000000$ term of the airthmetic series \n",
        "$$ S_n  = \\sum_{k=1}^n a_k$$\n",
        "\n",
        "<br /> \n",
        "for the airthmetic sequence $a_k = 10 + 3 (k-1) $ for $k=1,2,\\ldots$\n",
        "\n",
        "<br /> \n",
        "$$ 10,13,16,19,21,\\ldots$$\n"
      ]
    },
    {
      "cell_type": "markdown",
      "metadata": {
        "id": "hg3ixQ3bZiVh"
      },
      "source": [
        "Plot"
      ]
    },
    {
      "cell_type": "code",
      "metadata": {
        "colab": {
          "base_uri": "https://localhost:8080/"
        },
        "id": "w8FP1XqSgnie",
        "outputId": "9ede84a2-2008-4c1d-cec3-7e4f716b9401"
      },
      "source": [
        "n = 10000000\n",
        "a = 10\n",
        "d = 3\n",
        "S_n = 0\n",
        "for i in range(1,n+1):  # range(n+19 goes form 1 to n\n",
        "  a_n = a + d * (i-1) \n",
        "  S_n = S_n + a_n\n",
        "print(S_n)"
      ],
      "execution_count": null,
      "outputs": [
        {
          "output_type": "stream",
          "name": "stdout",
          "text": [
            "150000085000000\n"
          ]
        }
      ]
    },
    {
      "cell_type": "code",
      "metadata": {
        "colab": {
          "base_uri": "https://localhost:8080/"
        },
        "id": "g_38RfB_hgg2",
        "outputId": "588f9546-84d5-4002-b401-9ba6048d9a7a"
      },
      "source": [
        "n*(2*a +d*(n-1))/2"
      ],
      "execution_count": null,
      "outputs": [
        {
          "output_type": "execute_result",
          "data": {
            "text/plain": [
              "150000085000000.0"
            ]
          },
          "metadata": {},
          "execution_count": 12
        }
      ]
    },
    {
      "cell_type": "code",
      "metadata": {
        "colab": {
          "base_uri": "https://localhost:8080/"
        },
        "id": "zS3qb_xE1u58",
        "outputId": "0643c9e0-6f04-4312-88ed-6a811f0c8cbf"
      },
      "source": [
        "n*(a +a_n)/2"
      ],
      "execution_count": null,
      "outputs": [
        {
          "output_type": "execute_result",
          "data": {
            "text/plain": [
              "150000085000000.0"
            ]
          },
          "metadata": {},
          "execution_count": 13
        }
      ]
    },
    {
      "cell_type": "code",
      "metadata": {
        "colab": {
          "base_uri": "https://localhost:8080/",
          "height": 284
        },
        "id": "7qesKez70zub",
        "outputId": "08bb017a-b18e-4744-f928-c632edacc0e0"
      },
      "source": [
        "import matplotlib.pyplot as plt\n",
        "\n",
        "n = 20\n",
        "a = 10\n",
        "d = 3\n",
        "S_n = 0\n",
        "Serie_S_n=[]\n",
        "Sequence_a_n =[]\n",
        "for i in range(1,n+1):  # range(n+19 goes form 1 to n\n",
        "  a_n = a + d * (i-1) \n",
        "  S_n = S_n + a_n\n",
        "  Serie_S_n.append(S_n)\n",
        "  Sequence_a_n.append(a_n)\n",
        "\n",
        "plt.plot(Serie_S_n, color='black',label='Serie_S_n')\n",
        "plt.plot(Sequence_a_n, color='red',label='Sequence_a_n')\n",
        "plt.legend()"
      ],
      "execution_count": null,
      "outputs": [
        {
          "output_type": "execute_result",
          "data": {
            "text/plain": [
              "<matplotlib.legend.Legend at 0x7f37d6a89d10>"
            ]
          },
          "metadata": {},
          "execution_count": 15
        },
        {
          "output_type": "display_data",
          "data": {
            "text/plain": [
              "<Figure size 432x288 with 1 Axes>"
            ],
            "image/png": "[encoded data removed]"
          },
          "metadata": {
            "needs_background": "light"
          }
        }
      ]
    },
    {
      "cell_type": "markdown",
      "metadata": {
        "id": "r9qzONSlZq2q"
      },
      "source": [
        "## Your own example of arithmetic series "
      ]
    },
    {
      "cell_type": "markdown",
      "metadata": {
        "id": "oAefva_XOjBf"
      },
      "source": [
        "## Primer ejemplo\n",
        "$$\\\\S_a=\\frac{n(a_1 + a_n)}{2}\\\\\n",
        "\\\\n = 1, 2, 3, ...,15\\\\a_1 = 2,\\: a_{15} = 30$$"
      ]
    },
    {
      "cell_type": "code",
      "metadata": {
        "colab": {
          "base_uri": "https://localhost:8080/"
        },
        "id": "xgYIhzl8U5TM",
        "outputId": "487a831a-c512-4d6b-a308-a24f70144716"
      },
      "source": [
        "print((15/2)*(2+30))"
      ],
      "execution_count": null,
      "outputs": [
        {
          "output_type": "stream",
          "name": "stdout",
          "text": [
            "240.0\n"
          ]
        }
      ]
    },
    {
      "cell_type": "code",
      "metadata": {
        "id": "SrJ_dPxS0pwP",
        "colab": {
          "base_uri": "https://localhost:8080/",
          "height": 282
        },
        "outputId": "0834b7c3-d208-46ae-bb81-0617af63eb43"
      },
      "source": [
        "n = 15\n",
        "a1 = 2\n",
        "S_n = 0\n",
        "Serie_n = []\n",
        "Sequence =[]\n",
        "for i in range (0,n):\n",
        "  an = a1 + (i - 1)\n",
        "  a = a1 + an\n",
        "  s = (i*a)/2\n",
        "  S_n += i\n",
        "  Serie_n.append(S_n)\n",
        "  Sequence.append(i)\n",
        "plt.plot(Serie_n, color='m',label='Serie_S_n')\n",
        "plt.plot(Sequence, color='c',label='Sequence_a_n')\n",
        "plt.legend()"
      ],
      "execution_count": null,
      "outputs": [
        {
          "output_type": "execute_result",
          "data": {
            "text/plain": [
              "<matplotlib.legend.Legend at 0x7f37d6a52410>"
            ]
          },
          "metadata": {},
          "execution_count": 17
        },
        {
          "output_type": "display_data",
          "data": {
            "text/plain": [
              "<Figure size 432x288 with 1 Axes>"
            ],
            "image/png": "[encoded data removed]"
          },
          "metadata": {
            "needs_background": "light"
          }
        }
      ]
    },
    {
      "cell_type": "markdown",
      "metadata": {
        "id": "XgDTC-QGgFib"
      },
      "source": [
        "## Segundo ejemplo"
      ]
    },
    {
      "cell_type": "markdown",
      "metadata": {
        "id": "m98HNiArgRpG"
      },
      "source": [
        "$a_1=1$ The first term\n",
        "\n",
        "$d=3$ The common difference\n",
        "\n",
        "$n=10$ How many terms to add up \n",
        "\\begin{align*}\n",
        "\\sum^{n-1}_{k=0} =& \\frac{n}{2} (2a_1 + (n-1) d)\\\\\\\\\n",
        "=& \\frac{10}{2} (2\\cdot 1 + (10-1) 3)\\\\\\\\\n",
        "=& 5(2+9\\cdot3) \\\\\\\\\n",
        "=& 5(29)\\\\\\\\\n",
        "=& 145\\\\\\\\\n",
        "\\end{align*}"
      ]
    },
    {
      "cell_type": "code",
      "metadata": {
        "colab": {
          "base_uri": "https://localhost:8080/",
          "height": 282
        },
        "id": "Tc7xpLx6gIhv",
        "outputId": "f2dc9560-16ef-46c9-e240-e172302dccda"
      },
      "source": [
        "import matplotlib.pyplot as plt\n",
        "n = 10\n",
        "a1 = 1\n",
        "d = 3\n",
        "S_n = ((n/2)*(2 * a1 + (n-1)*d))\n",
        "Serie_n = []\n",
        "Sequence =[]\n",
        "for i in range (1,n):\n",
        "  a = a1 + i\n",
        "  s = (i*a)/2\n",
        "  S_n += i\n",
        "  Serie_n.append(S_n)\n",
        "  Sequence.append(i)\n",
        "plt.plot(Serie_n, color='blue',label='Serie_S_n')\n",
        "plt.plot(Sequence, color='green',label='Sequence_a_n')\n",
        "plt.legend()"
      ],
      "execution_count": null,
      "outputs": [
        {
          "output_type": "execute_result",
          "data": {
            "text/plain": [
              "<matplotlib.legend.Legend at 0x7f37d704c3d0>"
            ]
          },
          "metadata": {},
          "execution_count": 18
        },
        {
          "output_type": "display_data",
          "data": {
            "text/plain": [
              "<Figure size 432x288 with 1 Axes>"
            ],
            "image/png": "[encoded data removed]"
          },
          "metadata": {
            "needs_background": "light"
          }
        }
      ]
    },
    {
      "cell_type": "markdown",
      "metadata": {
        "id": "AKWJ1F7hac8T"
      },
      "source": [
        "# Geometric Series\n",
        "\n",
        "## Modified from Geometric Series -  [Wolfram MathWorld](https://mathworld.wolfram.com/GeometricSeries.html) - [wikipedia](https://en.wikipedia.org/wiki/Geometric_series)\n"
      ]
    },
    {
      "cell_type": "markdown",
      "metadata": {
        "id": "W5zx_-nR81GI"
      },
      "source": [
        "An geometric series is the sum of a sequence $\\{a_k\\}$ for $k=1, 2, ..., $ in which each term is computed from the previous one by adding (or subtracting) a constant $d$. \n",
        "\n",
        "\\begin{align*}\n",
        "a_0 &\\ \\ =\\ \\ r^0 \\ \\ =\\ \\ 1\\\\\n",
        "a_1 &\\ \\ =\\ \\ a_0 *  r \\ \\ =\\ \\  r\\\\\n",
        "a_2 &\\ \\ =\\ \\ a_1 * r\\ \\ =\\ \\ a_0 * r^2  \\ \\ =\\ \\ r^2 \\\\\n",
        "a_3 &\\ \\ =\\ \\ a_2 * r \\ \\ =\\ \\ a_0 * r^3 \\ \\ =\\ \\  r^3  \\\\\n",
        "a_4 &\\ \\ =\\ \\ a_3 * r\\ \\  =\\ \\ a_0 * r^4 \\ \\  =\\ \\ r^4  \\\\\n",
        "\\vdots\\\\\n",
        "a_k &\\ \\ =\\ \\ a_{(k-1)}* r \\ =\\   a_0 * r^k \\ \\  =\\ \\  r^k\n",
        "\\end{align*}\n",
        "\n",
        "The sum of the first $n$ terms  of  the geometric sequence (called an geometric serie)  is then given by\n",
        "$$\n",
        "\\begin{array}{ll}\n",
        "S_n &=  1 + r + r^2 + \\cdots + r^{n-1} +r^n \\\\\n",
        " &=  (1 + r + r^2 + \\cdots + r^{n-1} ) +r^n \\\\\n",
        " &= S_{n-1}  +r^n \n",
        "\\end{array}\n",
        "$$\n",
        "\n",
        "$$\n",
        "\\begin{array}{ll}\n",
        "S_n &=  1 + r + r^2 + \\cdots + r^{n-1} +r^n \\\\\n",
        " &=  1 + (r + r^2 + \\cdots + r^{n-1}  +r^n)  \\\\\n",
        " &=   1 + r (1 +  r  + r^2 + \\cdots + r^{n-1} )  \\\\\n",
        "  &=   1 + r   S_{n-1} \n",
        "\\end{array}\n",
        "$$\n",
        "\n",
        "Then\n",
        "$$\n",
        " S_{n-1}  +r^n =   1 + r   S_{n-1} \n",
        "$$\n",
        "\n",
        "Therefore\n",
        "$$\n",
        " S_{n-1} (1 -r)   +r^n =   1 - r^n \n",
        "$$\n",
        "\n",
        "$$\n",
        " S_{n-1}   =   \\frac{1 - r^n }{1 -r}\n",
        "$$\n",
        "\n",
        "$$\n",
        " S_{n}   =   \\frac{1 - r^{n+1} }{1 -r}  = \\frac{ r^{n+1} - 1}{r -1}\n",
        "$$\n"
      ]
    },
    {
      "cell_type": "markdown",
      "metadata": {
        "id": "CDUYfT8k8crr"
      },
      "source": [
        "## Nodes in Complete Binary Tree with $L=0,1,2,\\cdots , L-1$ levels \n",
        "\n",
        "![](https://raw.githubusercontent.com/gjhernandezp/algorithms/master/Lab7/ComBinTree.png)\n",
        "\n",
        "In a complete binary tree you have in ecah level $k =0,1,2,\\cdots $  $ 2^k $\n",
        "\n",
        "$$\n",
        "\\begin{array}{ll}\n",
        "\\text {Level } 0 \\rightarrow 2^0 = 1 \\text { node (root)} \\\\\n",
        "\\text {Level } 1 \\rightarrow 2^1 = 2 \\text { nodes} \\\\\n",
        "\\text {Level } 2 \\rightarrow 2^2 = 4 \\text { nodes} \\\\\n",
        "\\text {Level } 3 \\rightarrow 2^3 = 8 \\text { nodes} \\\\\n",
        "\\vdots\\\\\n",
        "\\text {Level } k \\rightarrow 2^k  \\text { nodes} \\\\\n",
        "\\end{array}\n",
        "$$\n",
        "\n",
        "nodes, with $l = 0,1,2, ... $ the level\n",
        "\n",
        "Total number of the complte tree with $L=0,1,2,\\cdots , L-1$ levels\n",
        "\n",
        "$$ \n",
        "2^0 + 2^1 + 2^2 + \\cdots +2^{L-1}  = 1 + 2 + 4 + \\cdots +2^{L-1} = \\sum_{k=0}^{L-1} 2^k = \\frac{ 2^{L} - 1}{2 -1} = 2^{L} - 1\n",
        "$$"
      ]
    },
    {
      "cell_type": "markdown",
      "metadata": {
        "id": "RgH-lF_lewVH"
      },
      "source": [
        "## Code"
      ]
    },
    {
      "cell_type": "code",
      "metadata": {
        "id": "PIYSkpI5eyUA",
        "colab": {
          "base_uri": "https://localhost:8080/"
        },
        "outputId": "81f1ea83-8cb3-4be5-c804-d324dc435b27"
      },
      "source": [
        "nivel = int(input())\n",
        "print(f\"El arbol de nivel {nivel} tiene: {2**nivel} nodos\")"
      ],
      "execution_count": null,
      "outputs": [
        {
          "output_type": "stream",
          "name": "stdout",
          "text": [
            "9\n",
            "El arbol de nivel 9 tiene: 512 nodos\n"
          ]
        }
      ]
    },
    {
      "cell_type": "markdown",
      "metadata": {
        "id": "YiWlrhLZNMX9"
      },
      "source": [
        "### Primer ejemplo"
      ]
    },
    {
      "cell_type": "markdown",
      "metadata": {
        "id": "CrQqJoqUc97Q"
      },
      "source": [
        "$$ \\\\S_{30} =\\frac{6(6^{30}-1)}{6-1}\\\\ $$"
      ]
    },
    {
      "cell_type": "code",
      "metadata": {
        "id": "YvMkYU8UNOll",
        "colab": {
          "base_uri": "https://localhost:8080/"
        },
        "outputId": "5f78566e-80ec-4ce6-85b6-22fbc46be99c"
      },
      "source": [
        "n = 30\n",
        "x = 6\n",
        "S_n = 13\n",
        "\n",
        "for i in range(n-1):\n",
        "  x *= 6\n",
        "  S_n += x\n",
        "\n",
        "print(S_n)"
      ],
      "execution_count": null,
      "outputs": [
        {
          "output_type": "stream",
          "name": "stdout",
          "text": [
            "265288703664880029479737\n"
          ]
        }
      ]
    },
    {
      "cell_type": "markdown",
      "metadata": {
        "id": "3ZcEXVLL3ROd"
      },
      "source": [
        "###Segundo Ejemplo"
      ]
    },
    {
      "cell_type": "markdown",
      "metadata": {
        "id": "bCVi0JFGVBPs"
      },
      "source": [
        "$a_{n} = 18 * (4)^{n-1}$"
      ]
    },
    {
      "cell_type": "markdown",
      "metadata": {
        "id": "kEn-xDX6VkSq"
      },
      "source": [
        "$18, 72, 288, 1152 ...$"
      ]
    },
    {
      "cell_type": "code",
      "metadata": {
        "id": "nj33PR8nUoEK",
        "colab": {
          "base_uri": "https://localhost:8080/"
        },
        "outputId": "27e6167d-1633-450d-a40a-7207ac321564"
      },
      "source": [
        "n = 10\n",
        "x = 18\n",
        "\n",
        "for i in range(n-1):\n",
        "  x *= 4\n",
        "\n",
        "print(x)"
      ],
      "execution_count": null,
      "outputs": [
        {
          "output_type": "stream",
          "name": "stdout",
          "text": [
            "4718592\n"
          ]
        }
      ]
    },
    {
      "cell_type": "code",
      "metadata": {
        "id": "od60lYU0ye8m",
        "colab": {
          "base_uri": "https://localhost:8080/"
        },
        "outputId": "8d41ca25-cabd-4e8a-ac4a-0d3ca357976b"
      },
      "source": [
        "print(18*(4**(n-1)))"
      ],
      "execution_count": null,
      "outputs": [
        {
          "output_type": "stream",
          "name": "stdout",
          "text": [
            "4718592\n"
          ]
        }
      ]
    },
    {
      "cell_type": "markdown",
      "metadata": {
        "id": "TD-3g164ytgd"
      },
      "source": [
        "$S_{10} = \\frac{18(4^{10}-1)}{4-1}$"
      ]
    },
    {
      "cell_type": "code",
      "metadata": {
        "id": "85YbgDUiytFb",
        "colab": {
          "base_uri": "https://localhost:8080/"
        },
        "outputId": "81552eaa-e76c-4510-e403-a88b02b93f95"
      },
      "source": [
        "n = 10\n",
        "x = 18\n",
        "S_n = 18\n",
        "\n",
        "for i in range(n-1):\n",
        "  x *= 4\n",
        "  S_n += x\n",
        "\n",
        "print(S_n)"
      ],
      "execution_count": null,
      "outputs": [
        {
          "output_type": "stream",
          "name": "stdout",
          "text": [
            "6291450\n"
          ]
        }
      ]
    },
    {
      "cell_type": "code",
      "metadata": {
        "id": "H2CWoLeu2vtk",
        "colab": {
          "base_uri": "https://localhost:8080/"
        },
        "outputId": "8b7d140b-b11a-4e36-ca51-841c622ab908"
      },
      "source": [
        "print((18*((4**10)-1))/(4-1))"
      ],
      "execution_count": null,
      "outputs": [
        {
          "output_type": "stream",
          "name": "stdout",
          "text": [
            "6291450.0\n"
          ]
        }
      ]
    },
    {
      "cell_type": "code",
      "metadata": {
        "id": "f34ko9wy3nin",
        "colab": {
          "base_uri": "https://localhost:8080/",
          "height": 293
        },
        "outputId": "96e13d91-4e98-4287-ac87-3552df3f9956"
      },
      "source": [
        "n = 10\n",
        "S_n = 18\n",
        "x = 18\n",
        "Serie_S_n=[18]\n",
        "Sequence_a_n =[18]\n",
        "for i in range(n-1):\n",
        "  x *= 4\n",
        "  S_n += x\n",
        "  Serie_S_n.append(S_n)\n",
        "  Sequence_a_n.append(x)\n",
        " \n",
        "plt.plot(Serie_S_n, color='m',label='Serie_S_n')\n",
        "plt.plot(Sequence_a_n, color='c',label='Sequence_a_n')\n",
        "plt.legend()"
      ],
      "execution_count": null,
      "outputs": [
        {
          "output_type": "execute_result",
          "data": {
            "text/plain": [
              "<matplotlib.legend.Legend at 0x7f37d6aca990>"
            ]
          },
          "metadata": {},
          "execution_count": 26
        },
        {
          "output_type": "display_data",
          "data": {
            "text/plain": [
              "<Figure size 432x288 with 1 Axes>"
            ],
            "image/png": "[encoded data removed]"
          },
          "metadata": {
            "needs_background": "light"
          }
        }
      ]
    },
    {
      "cell_type": "markdown",
      "metadata": {
        "id": "7J_dmBY01jO2"
      },
      "source": [
        "## Segundo ejemplo"
      ]
    },
    {
      "cell_type": "markdown",
      "metadata": {
        "id": "fKeQkKri67kU"
      },
      "source": [
        "$S_{10} = \\frac{3((-2)^{10}-1)}{-2-1}$"
      ]
    },
    {
      "cell_type": "code",
      "metadata": {
        "id": "WUhoxJNa7CgY",
        "colab": {
          "base_uri": "https://localhost:8080/"
        },
        "outputId": "34846e08-3e1c-43c1-f0ab-f393fbdf1c91"
      },
      "source": [
        "n = 10\n",
        "x = 3\n",
        "S_n = 3\n",
        "\n",
        "for i in range(n-1):\n",
        "  x *= (-2)\n",
        "  S_n += x\n",
        "\n",
        "print(S_n)"
      ],
      "execution_count": null,
      "outputs": [
        {
          "output_type": "stream",
          "name": "stdout",
          "text": [
            "-1023\n"
          ]
        }
      ]
    },
    {
      "cell_type": "code",
      "metadata": {
        "id": "fYD9Y1bK7C0P",
        "colab": {
          "base_uri": "https://localhost:8080/"
        },
        "outputId": "b008e960-7d11-4a3b-a18a-b47e58486712"
      },
      "source": [
        "print((3*(((-2)**10)-1))/(-2-1))"
      ],
      "execution_count": null,
      "outputs": [
        {
          "output_type": "stream",
          "name": "stdout",
          "text": [
            "-1023.0\n"
          ]
        }
      ]
    },
    {
      "cell_type": "code",
      "metadata": {
        "id": "tje3HRtK7U0Q",
        "colab": {
          "base_uri": "https://localhost:8080/",
          "height": 282
        },
        "outputId": "de58bb7e-3abe-4116-e45e-d4049bffd1e0"
      },
      "source": [
        "import matplotlib.pyplot as plt\n",
        "n = 40\n",
        "S_n = 2\n",
        "x = 1\n",
        "Serie_S_n=[4]\n",
        "Sequence_a_n =[4]\n",
        "for i in range(n-1):\n",
        "  x *= (-1)\n",
        "  S_n += x\n",
        "  Serie_S_n.append(S_n)\n",
        "  Sequence_a_n.append(x)\n",
        " \n",
        "plt.plot(Serie_S_n, color='black',label='Serie_S_n')\n",
        "plt.plot(Sequence_a_n, color='red',label='Sequence_a_n')\n",
        "plt.legend()"
      ],
      "execution_count": null,
      "outputs": [
        {
          "output_type": "execute_result",
          "data": {
            "text/plain": [
              "<matplotlib.legend.Legend at 0x7f37d6855d10>"
            ]
          },
          "metadata": {},
          "execution_count": 29
        },
        {
          "output_type": "display_data",
          "data": {
            "text/plain": [
              "<Figure size 432x288 with 1 Axes>"
            ],
            "image/png": "[encoded data removed]"
          },
          "metadata": {
            "needs_background": "light"
          }
        }
      ]
    },
    {
      "cell_type": "markdown",
      "metadata": {
        "id": "Dd3RWDwJe2xD"
      },
      "source": [
        "## Zenon Arrow\n",
        "\n",
        "![](https://raw.githubusercontent.com/gjhernandezp/algorithms/master/Lab7/zeno-paradox-arrow.png)\n",
        "\n",
        "https://leseditionsdeschavonnes.com/2018/10/15/the-paradox-of-achilles-and-the-tortoise/\n",
        "\n",
        "\n",
        "\n",
        "$$ \n",
        "\\lim_{n\\rightarrow \\infty} \\left\\{\\left(\\frac{1}{2}\\right)^0 + \\left(\\frac{1}{2}\\right)^1 +\\left(\\frac{1}{2}\\right)^2 + \\cdots +\\left(\\frac{1}{2}\\right)^{n} \\right\\} = \\lim_{n\\rightarrow \\infty} \\left\\{ 1 +\\frac{1}{2} + \\frac{1}{4} + \\frac{1}{8} + \\cdots +\\frac{1}{2^{n}}\\right\\}  = \\lim_{n\\rightarrow \\infty} \\sum_{k=0}^{n} \\left(\\frac{1}{2}\\right)^k = \\lim_{n\\rightarrow \\infty} \\frac{ 1- \\left(\\frac{1}{2}\\right)^n  }{1 - \\left(\\frac{1}{2}\\right) } = \\frac{ 1}{1 - \\left(\\frac{1}{2}\\right)} = 2\n",
        "$$"
      ]
    },
    {
      "cell_type": "markdown",
      "metadata": {
        "id": "R-J4EekBNPkd"
      },
      "source": [
        "### Code"
      ]
    },
    {
      "cell_type": "code",
      "metadata": {
        "id": "8xdBovY3NEW_",
        "colab": {
          "base_uri": "https://localhost:8080/"
        },
        "outputId": "e022ad0d-8e9b-4e17-9e50-050e4acb6249"
      },
      "source": [
        "S_n = 0\n",
        "\n",
        "for i in range(100):\n",
        "    S_n += (1/2)**(i)\n",
        "print(S_n)"
      ],
      "execution_count": null,
      "outputs": [
        {
          "output_type": "stream",
          "name": "stdout",
          "text": [
            "2.0\n"
          ]
        }
      ]
    },
    {
      "cell_type": "markdown",
      "metadata": {
        "id": "dh2ntBeoNQlN"
      },
      "source": [
        "# Power Sums Power Sums - [Wolfram MathWorld](https://mathworld.wolfram.com/PowerSum.html) - [wikipedia](https://en.wikipedia.org/wiki/Sums_of_powers) - [reserachgate](https://www.researchgate.net/publication/331933608_The_Powers_Sums_Bernoulli_Numbers_Bernoulli_Polynomials_Rethinked)\n",
        "\n"
      ]
    },
    {
      "cell_type": "markdown",
      "metadata": {
        "id": "CccTwvC6B7JA"
      },
      "source": [
        "There are two kinds of power sums commonly considered. The first is the sum of pth powers of a set of n variables $x_k$,\n",
        "\n",
        "$S_{p}(x_{1}, ..., x_{n}) = \\sum_{n}^{k=1}x_{k}^{p})$\n",
        "\n",
        "nd the second is the special case $x_k=k$, i.e.,\n",
        "\n",
        "$S_{p}(n)= \\sum_{n}^{k=1}k^{p})$\n",
        "\n",
        "General power sums arise commonly in statistics. For example, k-statistics are most commonly defined in terms of power sums. Power sums are related to symmetric polynomials by the Newton-Girard formulas.\n",
        "\n",
        "The sum of k times the kth power of x is given analytically by\n",
        "\n",
        "$\\sum_{k=0}^{n}kx^{k} = \\frac{x-(n+1)x^{n+1}+nx^{n+2}}{(x-1)^{2}}$\n",
        "\n",
        "Other analytic sums include\n",
        "\n",
        "$(\\sum_{k=0}^{\\infty} x^{k})^{p} = (1-x)^{-p}$\n",
        "\n",
        "$= \\frac{1}{(p-1)!} \\sum_{n=0}^{\\infty}(n+1)_{p-1}x^{n}$"
      ]
    },
    {
      "cell_type": "markdown",
      "metadata": {
        "id": "uVn19WjYFTY7"
      },
      "source": [
        "for $|x|<1$, where $(n)_p$ is a Pochhammer symbol. The finite version has the elegant closed form\n",
        "\n",
        "$(\\sum_{k=0}^{\\infty} x^{k})^{p} = \\frac{1}{(p-1)!} \\sum_{k=0}^{np} \\frac{(n-|n-k|+p-1)!}{(n-|n-k|)!}x^{k}$\n",
        "\n",
        "for $p=1$ and 2. An additional sum is given by\n",
        "\n",
        "$(\\sum_{n=0}^{\\infty} a_{n}x^{n})^{2} = \\sum_{n=0}^{\\infty} a_{n}^{2}x^{2n} + 2 \\sum_{n=1}^{\\infty}a_{i}a_{j}x^{n}$\n",
        "\n",
        "An analytic solution for a sum of powers of integers is\n",
        "\n",
        "$S_{p}(n) = \\sum_{k=1}^{n}k^{p} = H_{n}^{-p}$\n",
        "\n",
        "Bernoulli used the property of the figurate number triangle that\n",
        "\n",
        "$\\sum_{i=0}^{n}a_{ij} = \\frac{(n+1)a_{nj}}{j+1}$\n",
        "\n",
        "along with a form for a_(nj) which he derived inductively to compute the sums up to n=10 (Boyer 1968, p. 85). For p in $Z>0$, the sum is given by\n",
        "\n",
        "$\\sum_{k=1}^{n}k^{p} = \\frac{(B + n + 1)^{(p+1)}-B^{(p+1)}}{p+1}$\n",
        "\n",
        "where the notation $B^k$ means the quantity in question is raised to the appropriate power k, and all terms of the form $B^m$ are replaced with the corresponding Bernoulli numbers $B_m$. Written explicitly in terms of a sum of powers,\n",
        "\n",
        "$\\sum_{k=1}^{n} k^{p} = \\sum_{k=1}^{p+1}b_{pk}n^{k}$\n",
        "\n",
        "where\n",
        "\n",
        "$b_{pk} = \\frac{(-1)^{p-k+1}B_{p-k+1}p!}{k!(p-k+1)!}$\n",
        "\n",
        "It is also true that the coefficients of the terms b_(pk) sum to 1,\n",
        "\n",
        "$\\sum_{k=1}^{p+1}b_{pk}=1$\n",
        "\n",
        "which Bernoulli stated without proof.\n",
        "\n",
        "A double series solution for $S_p(n)$ is given by\n",
        "\n",
        "$S_{p}(n) = \\sum_{i=1}^{p} \\sum_{j=0}^{i-1}(-1)^{j} (i-j)^{p} \\binom{n+p-i+1}{n-i}\\binom{p+1}{j}$"
      ]
    },
    {
      "cell_type": "markdown",
      "metadata": {
        "id": "jxdT43Z5QBf1"
      },
      "source": [
        "###Primer Ejemplo"
      ]
    },
    {
      "cell_type": "markdown",
      "metadata": {
        "id": "d0Yow1kLQgPI"
      },
      "source": [
        "Suma de cubos:\n",
        "\n",
        "Variable $n=30$"
      ]
    },
    {
      "cell_type": "code",
      "metadata": {
        "id": "2PyxzzOZVIdl",
        "colab": {
          "base_uri": "https://localhost:8080/",
          "height": 300
        },
        "outputId": "6589e806-914a-4da1-f510-43c93778dbd1"
      },
      "source": [
        "S_n = 0\n",
        "Serie_S_n = []\n",
        "Sequence_a_n = []\n",
        "\n",
        "for i in range(1, 31):\n",
        "    S_n += i**(3)\n",
        "    Serie_S_n.append(S_n)\n",
        "    Sequence_a_n.append(i**(3))\n",
        "\n",
        "print(S_n)\n",
        "\n",
        "plt.plot(Serie_S_n, color='black',label='Serie_S_n')\n",
        "plt.plot(Sequence_a_n, color='red',label='Sequence_a_n')\n",
        "plt.legend()"
      ],
      "execution_count": null,
      "outputs": [
        {
          "output_type": "stream",
          "name": "stdout",
          "text": [
            "216225\n"
          ]
        },
        {
          "output_type": "execute_result",
          "data": {
            "text/plain": [
              "<matplotlib.legend.Legend at 0x7f37d68611d0>"
            ]
          },
          "metadata": {},
          "execution_count": 31
        },
        {
          "output_type": "display_data",
          "data": {
            "text/plain": [
              "<Figure size 432x288 with 1 Axes>"
            ],
            "image/png": "[encoded data removed]"
          },
          "metadata": {
            "needs_background": "light"
          }
        }
      ]
    },
    {
      "cell_type": "code",
      "metadata": {
        "id": "dkFd2iBtg3v5",
        "colab": {
          "base_uri": "https://localhost:8080/"
        },
        "outputId": "c9959b3a-6c98-4174-d490-5cf361722c65"
      },
      "source": [
        "print((1/4)*((30**4)+ 2*(30**3)+(30**2)))"
      ],
      "execution_count": null,
      "outputs": [
        {
          "output_type": "stream",
          "name": "stdout",
          "text": [
            "216225.0\n"
          ]
        }
      ]
    },
    {
      "cell_type": "markdown",
      "metadata": {
        "id": "qHYtMjaS3HDN"
      },
      "source": [
        "###Segundo Ejemplo"
      ]
    },
    {
      "cell_type": "markdown",
      "metadata": {
        "id": "h9iV9dcSitB9"
      },
      "source": [
        "$S_p(n) = \\sum^{n}_{k} = 1k^p $\n",
        "\n",
        "$p=2.5$"
      ]
    },
    {
      "cell_type": "code",
      "metadata": {
        "id": "0uZ76e4Ui8lk",
        "colab": {
          "base_uri": "https://localhost:8080/"
        },
        "outputId": "8735f7a9-3c99-4296-d628-739397e57dbb"
      },
      "source": [
        "n = 100\n",
        "res = 0.0\n",
        "for i in range(n):\n",
        "  res += (i+1)**2.5\n",
        "print(res)"
      ],
      "execution_count": null,
      "outputs": [
        {
          "output_type": "stream",
          "name": "stdout",
          "text": [
            "2907351.1987327035\n"
          ]
        }
      ]
    },
    {
      "cell_type": "markdown",
      "metadata": {
        "id": "ZlbCp3aASWlt"
      },
      "source": [
        "Suma de potencias cuatro:"
      ]
    },
    {
      "cell_type": "code",
      "metadata": {
        "id": "4GSSTZGJSYx7",
        "colab": {
          "base_uri": "https://localhost:8080/",
          "height": 300
        },
        "outputId": "ad0ad0ef-3563-4abf-9a20-ea37917475f5"
      },
      "source": [
        "S_n = 0\n",
        "Serie_S_n = []\n",
        "Sequence_a_n = []\n",
        "\n",
        "for i in range(1, 21):\n",
        "    S_n += i**(4)\n",
        "    Serie_S_n.append(S_n)\n",
        "    Sequence_a_n.append(i**(4))\n",
        "\n",
        "print(S_n)\n",
        "\n",
        "plt.plot(Serie_S_n, color='black',label='Serie_S_n')\n",
        "plt.plot(Sequence_a_n, color='red',label='Sequence_a_n')\n",
        "plt.legend()"
      ],
      "execution_count": null,
      "outputs": [
        {
          "output_type": "stream",
          "name": "stdout",
          "text": [
            "722666\n"
          ]
        },
        {
          "output_type": "execute_result",
          "data": {
            "text/plain": [
              "<matplotlib.legend.Legend at 0x7f37d6758fd0>"
            ]
          },
          "metadata": {},
          "execution_count": 34
        },
        {
          "output_type": "display_data",
          "data": {
            "text/plain": [
              "<Figure size 432x288 with 1 Axes>"
            ],
            "image/png": "[encoded data removed]"
          },
          "metadata": {
            "needs_background": "light"
          }
        }
      ]
    },
    {
      "cell_type": "markdown",
      "metadata": {
        "id": "r_X1H6vRSnVd"
      },
      "source": [
        "$\\frac{1}{30} (6(20)^{5} + 15(20)^{4} + 10(20)^{3}-20) = 722666 $"
      ]
    },
    {
      "cell_type": "code",
      "metadata": {
        "id": "a4DqxKY1TCAK",
        "colab": {
          "base_uri": "https://localhost:8080/"
        },
        "outputId": "b7e7f778-534b-47b8-dda3-ca0f3bee48fa"
      },
      "source": [
        "print((1/30)*(6*(20**5)+15*(20**4)+ 10*(20**3)-(20)))"
      ],
      "execution_count": null,
      "outputs": [
        {
          "output_type": "stream",
          "name": "stdout",
          "text": [
            "722666.0\n"
          ]
        }
      ]
    }
  ]
}