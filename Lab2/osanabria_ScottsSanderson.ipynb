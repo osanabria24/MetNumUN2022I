{
  "cells": [
    {
      "cell_type": "code",
      "execution_count": 2,
      "metadata": {
        "autoscroll": false,
        "ein.tags": "worksheet-0",
        "colab": {
          "base_uri": "https://localhost:8080/",
          "height": 989
        },
        "id": "JfmoduSXu0zX",
        "outputId": "df5e08bc-73a5-4ed6-8203-240a72fb80a2"
      },
      "outputs": [
        {
          "output_type": "stream",
          "name": "stdout",
          "text": [
            "Requirement already satisfied: fortran-magic in /usr/local/lib/python3.7/dist-packages (0.7)\n",
            "Requirement already satisfied: ipython in /usr/local/lib/python3.7/dist-packages (from fortran-magic) (5.5.0)\n",
            "Requirement already satisfied: numpy in /usr/local/lib/python3.7/dist-packages (from fortran-magic) (1.21.5)\n",
            "Requirement already satisfied: pexpect in /usr/local/lib/python3.7/dist-packages (from ipython->fortran-magic) (4.8.0)\n",
            "Requirement already satisfied: decorator in /usr/local/lib/python3.7/dist-packages (from ipython->fortran-magic) (4.4.2)\n",
            "Requirement already satisfied: simplegeneric>0.8 in /usr/local/lib/python3.7/dist-packages (from ipython->fortran-magic) (0.8.1)\n",
            "Requirement already satisfied: setuptools>=18.5 in /usr/local/lib/python3.7/dist-packages (from ipython->fortran-magic) (57.4.0)\n",
            "Requirement already satisfied: prompt-toolkit<2.0.0,>=1.0.4 in /usr/local/lib/python3.7/dist-packages (from ipython->fortran-magic) (1.0.18)\n",
            "Requirement already satisfied: pygments in /usr/local/lib/python3.7/dist-packages (from ipython->fortran-magic) (2.6.1)\n",
            "Requirement already satisfied: traitlets>=4.2 in /usr/local/lib/python3.7/dist-packages (from ipython->fortran-magic) (5.1.1)\n",
            "Requirement already satisfied: pickleshare in /usr/local/lib/python3.7/dist-packages (from ipython->fortran-magic) (0.7.5)\n",
            "Requirement already satisfied: wcwidth in /usr/local/lib/python3.7/dist-packages (from prompt-toolkit<2.0.0,>=1.0.4->ipython->fortran-magic) (0.2.5)\n",
            "Requirement already satisfied: six>=1.9.0 in /usr/local/lib/python3.7/dist-packages (from prompt-toolkit<2.0.0,>=1.0.4->ipython->fortran-magic) (1.15.0)\n",
            "Requirement already satisfied: ptyprocess>=0.5 in /usr/local/lib/python3.7/dist-packages (from pexpect->ipython->fortran-magic) (0.7.0)\n"
          ]
        },
        {
          "output_type": "stream",
          "name": "stderr",
          "text": [
            "/usr/local/lib/python3.7/dist-packages/fortranmagic.py:147: UserWarning: get_ipython_cache_dir has moved to the IPython.paths module since IPython 4.0.\n",
            "  self._lib_dir = os.path.join(get_ipython_cache_dir(), 'fortran')\n"
          ]
        },
        {
          "output_type": "display_data",
          "data": {
            "application/javascript": [
              "$.getScript(\"https://raw.github.com/marijnh/CodeMirror/master/mode/fortran/fortran.js\", function () {\n",
              "IPython.config.cell_magic_highlight['magic_fortran'] = {'reg':[/^%%fortran/]};});\n"
            ]
          },
          "metadata": {}
        },
        {
          "output_type": "stream",
          "name": "stdout",
          "text": [
            "Requirement already satisfied: pandas-datareader in /usr/local/lib/python3.7/dist-packages (0.10.0)\n",
            "Requirement already satisfied: requests>=2.19.0 in /usr/local/lib/python3.7/dist-packages (from pandas-datareader) (2.27.1)\n",
            "Requirement already satisfied: pandas>=0.23 in /usr/local/lib/python3.7/dist-packages (from pandas-datareader) (1.3.5)\n",
            "Requirement already satisfied: lxml in /usr/local/lib/python3.7/dist-packages (from pandas-datareader) (4.8.0)\n",
            "Requirement already satisfied: pytz>=2017.3 in /usr/local/lib/python3.7/dist-packages (from pandas>=0.23->pandas-datareader) (2018.9)\n",
            "Requirement already satisfied: python-dateutil>=2.7.3 in /usr/local/lib/python3.7/dist-packages (from pandas>=0.23->pandas-datareader) (2.8.2)\n",
            "Requirement already satisfied: numpy>=1.17.3 in /usr/local/lib/python3.7/dist-packages (from pandas>=0.23->pandas-datareader) (1.21.5)\n",
            "Requirement already satisfied: six>=1.5 in /usr/local/lib/python3.7/dist-packages (from python-dateutil>=2.7.3->pandas>=0.23->pandas-datareader) (1.15.0)\n",
            "Requirement already satisfied: charset-normalizer~=2.0.0 in /usr/local/lib/python3.7/dist-packages (from requests>=2.19.0->pandas-datareader) (2.0.12)\n",
            "Requirement already satisfied: idna<4,>=2.5 in /usr/local/lib/python3.7/dist-packages (from requests>=2.19.0->pandas-datareader) (2.10)\n",
            "Requirement already satisfied: urllib3<1.27,>=1.21.1 in /usr/local/lib/python3.7/dist-packages (from requests>=2.19.0->pandas-datareader) (1.24.3)\n",
            "Requirement already satisfied: certifi>=2017.4.17 in /usr/local/lib/python3.7/dist-packages (from requests>=2.19.0->pandas-datareader) (2021.10.8)\n",
            "Requirement already satisfied: quandl in /usr/local/lib/python3.7/dist-packages (3.7.0)\n",
            "Requirement already satisfied: more-itertools in /usr/local/lib/python3.7/dist-packages (from quandl) (8.12.0)\n",
            "Requirement already satisfied: inflection>=0.3.1 in /usr/local/lib/python3.7/dist-packages (from quandl) (0.5.1)\n",
            "Requirement already satisfied: pandas>=0.14 in /usr/local/lib/python3.7/dist-packages (from quandl) (1.3.5)\n",
            "Requirement already satisfied: six in /usr/local/lib/python3.7/dist-packages (from quandl) (1.15.0)\n",
            "Requirement already satisfied: python-dateutil in /usr/local/lib/python3.7/dist-packages (from quandl) (2.8.2)\n",
            "Requirement already satisfied: numpy>=1.8 in /usr/local/lib/python3.7/dist-packages (from quandl) (1.21.5)\n",
            "Requirement already satisfied: requests>=2.7.0 in /usr/local/lib/python3.7/dist-packages (from quandl) (2.27.1)\n",
            "Requirement already satisfied: pytz>=2017.3 in /usr/local/lib/python3.7/dist-packages (from pandas>=0.14->quandl) (2018.9)\n",
            "Requirement already satisfied: certifi>=2017.4.17 in /usr/local/lib/python3.7/dist-packages (from requests>=2.7.0->quandl) (2021.10.8)\n",
            "Requirement already satisfied: charset-normalizer~=2.0.0 in /usr/local/lib/python3.7/dist-packages (from requests>=2.7.0->quandl) (2.0.12)\n",
            "Requirement already satisfied: idna<4,>=2.5 in /usr/local/lib/python3.7/dist-packages (from requests>=2.7.0->quandl) (2.10)\n",
            "Requirement already satisfied: urllib3<1.27,>=1.21.1 in /usr/local/lib/python3.7/dist-packages (from requests>=2.7.0->quandl) (1.24.3)\n",
            "Requirement already satisfied: yfinance in /usr/local/lib/python3.7/dist-packages (0.1.70)\n",
            "Requirement already satisfied: lxml>=4.5.1 in /usr/local/lib/python3.7/dist-packages (from yfinance) (4.8.0)\n",
            "Requirement already satisfied: pandas>=0.24.0 in /usr/local/lib/python3.7/dist-packages (from yfinance) (1.3.5)\n",
            "Requirement already satisfied: numpy>=1.15 in /usr/local/lib/python3.7/dist-packages (from yfinance) (1.21.5)\n",
            "Requirement already satisfied: requests>=2.26 in /usr/local/lib/python3.7/dist-packages (from yfinance) (2.27.1)\n",
            "Requirement already satisfied: multitasking>=0.0.7 in /usr/local/lib/python3.7/dist-packages (from yfinance) (0.0.10)\n",
            "Requirement already satisfied: pytz>=2017.3 in /usr/local/lib/python3.7/dist-packages (from pandas>=0.24.0->yfinance) (2018.9)\n",
            "Requirement already satisfied: python-dateutil>=2.7.3 in /usr/local/lib/python3.7/dist-packages (from pandas>=0.24.0->yfinance) (2.8.2)\n",
            "Requirement already satisfied: six>=1.5 in /usr/local/lib/python3.7/dist-packages (from python-dateutil>=2.7.3->pandas>=0.24.0->yfinance) (1.15.0)\n",
            "Requirement already satisfied: idna<4,>=2.5 in /usr/local/lib/python3.7/dist-packages (from requests>=2.26->yfinance) (2.10)\n",
            "Requirement already satisfied: certifi>=2017.4.17 in /usr/local/lib/python3.7/dist-packages (from requests>=2.26->yfinance) (2021.10.8)\n",
            "Requirement already satisfied: charset-normalizer~=2.0.0 in /usr/local/lib/python3.7/dist-packages (from requests>=2.26->yfinance) (2.0.12)\n",
            "Requirement already satisfied: urllib3<1.27,>=1.21.1 in /usr/local/lib/python3.7/dist-packages (from requests>=2.26->yfinance) (1.24.3)\n",
            "The fortranmagic extension is already loaded. To reload it, use:\n",
            "  %reload_ext fortranmagic\n"
          ]
        }
      ],
      "source": [
        "!pip install -U fortran-magic\n",
        "%reload_ext fortranmagic\n",
        "\n",
        "!pip install --upgrade pandas-datareader\n",
        "\n",
        "import pandas_datareader as pdr\n",
        "import datetime\n",
        "\n",
        "import pandas as pd\n",
        "import numpy as np\n",
        "from statsmodels.tsa.stattools import adfuller\n",
        "import matplotlib.pylab as plt\n",
        "from matplotlib.pylab import rcParams\n",
        "\n",
        "!pip install --upgrade quandl\n",
        "!pip install yfinance\n",
        "import yfinance as yf\n",
        "\n",
        "\n",
        "\n",
        "\n",
        "%matplotlib inline\n",
        "%load_ext fortranmagic\n",
        "\n",
        "import sys; sys.path.append('..')\n",
        "\n",
        "import pandas as pd\n",
        "import numpy as np\n",
        "import matplotlib as mpl\n",
        "import matplotlib.pyplot as plt\n",
        "import seaborn as sns\n",
        "\n",
        "mpl.rc('figure', figsize=(12, 7))\n",
        "\n",
        "ran_the_first_cell = True\n",
        "\n",
        "jan2017 = pd.to_datetime(['2017-01-03 00:00:00+00:00',\n",
        " '2017-01-04 00:00:00+00:00',\n",
        " '2017-01-05 00:00:00+00:00',\n",
        " '2017-01-06 00:00:00+00:00',\n",
        " '2017-01-09 00:00:00+00:00',\n",
        " '2017-01-10 00:00:00+00:00',\n",
        " '2017-01-11 00:00:00+00:00',\n",
        " '2017-01-12 00:00:00+00:00',\n",
        " '2017-01-13 00:00:00+00:00',\n",
        " '2017-01-17 00:00:00+00:00',\n",
        " '2017-01-18 00:00:00+00:00',\n",
        " '2017-01-19 00:00:00+00:00',\n",
        " '2017-01-20 00:00:00+00:00',\n",
        " '2017-01-23 00:00:00+00:00',\n",
        " '2017-01-24 00:00:00+00:00',\n",
        " '2017-01-25 00:00:00+00:00',\n",
        " '2017-01-26 00:00:00+00:00',\n",
        " '2017-01-27 00:00:00+00:00',\n",
        " '2017-01-30 00:00:00+00:00',\n",
        " '2017-01-31 00:00:00+00:00',\n",
        " '2017-02-01 00:00:00+00:00'])\n",
        "calendar = jan2017.values.astype('datetime64[D]')\n",
        "\n",
        "event_dates = pd.to_datetime(['2017-01-06 00:00:00+00:00', \n",
        "                             '2017-01-07 00:00:00+00:00', \n",
        "                             '2017-01-08 00:00:00+00:00']).values.astype('datetime64[D]')\n",
        "event_values = np.array([10, 15, 20])"
      ]
    },
    {
      "cell_type": "markdown",
      "metadata": {
        "ein.tags": "worksheet-0",
        "id": "9TbKlCAcu0zd"
      },
      "source": [
        "<center>\n",
        "  <h1>The PyData Toolbox</h1>\n",
        "  <h3>Scott Sanderson (Twitter: @scottbsanderson, GitHub: ssanderson)</h3>\n",
        "  <h3><a href=\"https://github.com/ssanderson/pydata-toolbox\">https://github.com/ssanderson/pydata-toolbox</a></h3>\n",
        "</center>"
      ]
    },
    {
      "cell_type": "markdown",
      "metadata": {
        "collapsed": true,
        "ein.tags": "worksheet-0",
        "id": "x9DuWaP3u0zf"
      },
      "source": [
        "# About Me:\n",
        "\n",
        "<img src=\"images/me.jpg\" alt=\"Drawing\" style=\"width: 300px;\"/>\n",
        "\n",
        "- Senior Engineer at [Quantopian](www.quantopian.com)\n",
        "- Background in Mathematics and Philosophy\n",
        "- **Twitter:** [@scottbsanderson](https://twitter.com/scottbsanderson)\n",
        "- **GitHub:** [ssanderson](github.com/ssanderson)"
      ]
    },
    {
      "cell_type": "markdown",
      "metadata": {
        "id": "meOG-fF8u0zg"
      },
      "source": [
        "## Outline\n",
        "\n",
        "- Built-in Data Structures\n",
        "- Numpy `array`\n",
        "- Pandas `Series`/`DataFrame`\n",
        "- Plotting and \"Real-World\" Analyses"
      ]
    },
    {
      "cell_type": "markdown",
      "metadata": {
        "id": "4Y7a3rGQu0zh"
      },
      "source": [
        "# Data Structures"
      ]
    },
    {
      "cell_type": "markdown",
      "metadata": {
        "id": "j6DDVnN3u0zi"
      },
      "source": [
        "> Rule 5. Data dominates. If you've chosen the right data structures and organized things well, the algorithms\n",
        "will almost always be self-evident. Data structures, not algorithms, are central to programming.\n",
        "\n",
        "- *Notes on Programming in C*, by Rob Pike."
      ]
    },
    {
      "cell_type": "markdown",
      "metadata": {
        "id": "n0Km6MEXu0zj"
      },
      "source": [
        "# Lists"
      ]
    },
    {
      "cell_type": "code",
      "execution_count": 285,
      "metadata": {
        "collapsed": true,
        "id": "X90hs11vu0zj"
      },
      "outputs": [],
      "source": [
        "assert ran_the_first_cell, \"Oh noes!\""
      ]
    },
    {
      "cell_type": "code",
      "execution_count": 286,
      "metadata": {
        "colab": {
          "base_uri": "https://localhost:8080/"
        },
        "id": "_DlOpqw9u0zk",
        "outputId": "68ea37e9-923d-4848-c531-fc3ec3397de2"
      },
      "outputs": [
        {
          "output_type": "execute_result",
          "data": {
            "text/plain": [
              "[1, 'two', 3.0, 4, 5.0, 'six']"
            ]
          },
          "metadata": {},
          "execution_count": 286
        }
      ],
      "source": [
        "l = [1, 'two', 3.0, 4, 5.0, \"six\"]\n",
        "l"
      ]
    },
    {
      "cell_type": "markdown",
      "source": [
        "#My example 1"
      ],
      "metadata": {
        "id": "tcOK0pQ33Vg3"
      }
    },
    {
      "cell_type": "code",
      "source": [
        "h = [598, 'caballo', 2.97865, 4.245, 1238, \"vaca\"]\n",
        "h"
      ],
      "metadata": {
        "colab": {
          "base_uri": "https://localhost:8080/"
        },
        "id": "XZ-ZS-PCxMKH",
        "outputId": "d01602c9-748f-4681-99cb-ae532de6f00e"
      },
      "execution_count": 287,
      "outputs": [
        {
          "output_type": "execute_result",
          "data": {
            "text/plain": [
              "[598, 'caballo', 2.97865, 4.245, 1238, 'vaca']"
            ]
          },
          "metadata": {},
          "execution_count": 287
        }
      ]
    },
    {
      "cell_type": "code",
      "execution_count": 288,
      "metadata": {
        "colab": {
          "base_uri": "https://localhost:8080/"
        },
        "id": "1o4kryXYu0zl",
        "outputId": "06c95082-0399-44cb-e116-a6253131b549"
      },
      "outputs": [
        {
          "output_type": "stream",
          "name": "stdout",
          "text": [
            "first: 1\n",
            "second: two\n"
          ]
        }
      ],
      "source": [
        "# Lists can be indexed like C-style arrays.\n",
        "first = l[0]\n",
        "second = l[1]\n",
        "print(\"first:\", first)\n",
        "print(\"second:\", second)"
      ]
    },
    {
      "cell_type": "markdown",
      "source": [
        "#My example 2"
      ],
      "metadata": {
        "id": "oZfpAl0r7BCx"
      }
    },
    {
      "cell_type": "code",
      "source": [
        "primero = h[0]\n",
        "segundo = h[1]\n",
        "print(\"primero:\", primero)\n",
        "print(\"segundo:\", segundo)\n"
      ],
      "metadata": {
        "colab": {
          "base_uri": "https://localhost:8080/"
        },
        "id": "ZpRLli5Fxbn5",
        "outputId": "2afda403-809d-45b7-c8ec-39be3dfca88a"
      },
      "execution_count": 289,
      "outputs": [
        {
          "output_type": "stream",
          "name": "stdout",
          "text": [
            "primero: 598\n",
            "segundo: caballo\n"
          ]
        }
      ]
    },
    {
      "cell_type": "code",
      "execution_count": 290,
      "metadata": {
        "colab": {
          "base_uri": "https://localhost:8080/"
        },
        "id": "6DLfP2Ygu0zm",
        "outputId": "bb5da930-d77a-42f5-ed4b-029d9bf47d18"
      },
      "outputs": [
        {
          "output_type": "stream",
          "name": "stdout",
          "text": [
            "last: six\n",
            "second to last: 5.0\n"
          ]
        }
      ],
      "source": [
        "# Negative indexing gives elements relative to the end of the list.\n",
        "last = l[-1]\n",
        "penultimate = l[-2]\n",
        "print(\"last:\", last)\n",
        "print(\"second to last:\", penultimate)"
      ]
    },
    {
      "cell_type": "markdown",
      "source": [
        "#My example 3\n",
        "\n"
      ],
      "metadata": {
        "id": "Tfav7GE79QFQ"
      }
    },
    {
      "cell_type": "code",
      "source": [
        "ultimo = h[-1]\n",
        "penultimo = h[-2]\n",
        "print(\"ultimo:\", ultimo)\n",
        "print(\"penultimo:\", penultimo)"
      ],
      "metadata": {
        "colab": {
          "base_uri": "https://localhost:8080/"
        },
        "id": "eI_kYW1exllT",
        "outputId": "161b08ec-c9b6-49da-cfed-ed012c55c455"
      },
      "execution_count": 291,
      "outputs": [
        {
          "output_type": "stream",
          "name": "stdout",
          "text": [
            "ultimo: vaca\n",
            "penultimo: 1238\n"
          ]
        }
      ]
    },
    {
      "cell_type": "code",
      "execution_count": 292,
      "metadata": {
        "colab": {
          "base_uri": "https://localhost:8080/"
        },
        "id": "RTxQ9k-qu0zm",
        "outputId": "29820f0e-46b5-49fd-e82d-894197615c4f"
      },
      "outputs": [
        {
          "output_type": "execute_result",
          "data": {
            "text/plain": [
              "['two', 3.0]"
            ]
          },
          "metadata": {},
          "execution_count": 292
        }
      ],
      "source": [
        "# Lists can also be sliced, which makes a copy of elements between \n",
        "# start (inclusive) and stop (exclusive)\n",
        "sublist = l[1:3]\n",
        "sublist"
      ]
    },
    {
      "cell_type": "markdown",
      "source": [
        "#My example 4"
      ],
      "metadata": {
        "id": "6Iq8j2wrFiIf"
      }
    },
    {
      "cell_type": "code",
      "source": [
        "sublista = h[0:2]\n",
        "sublista\n"
      ],
      "metadata": {
        "colab": {
          "base_uri": "https://localhost:8080/"
        },
        "id": "Ie12kkaCxvhB",
        "outputId": "348423fa-8153-470c-adca-a2ab576d1083"
      },
      "execution_count": 293,
      "outputs": [
        {
          "output_type": "execute_result",
          "data": {
            "text/plain": [
              "[598, 'caballo']"
            ]
          },
          "metadata": {},
          "execution_count": 293
        }
      ]
    },
    {
      "cell_type": "code",
      "execution_count": 294,
      "metadata": {
        "colab": {
          "base_uri": "https://localhost:8080/"
        },
        "id": "UlIx79kHu0zn",
        "outputId": "f76bf73b-f1e1-4d65-f713-8aad1f0a6e3c"
      },
      "outputs": [
        {
          "output_type": "execute_result",
          "data": {
            "text/plain": [
              "[1, 'two', 3.0]"
            ]
          },
          "metadata": {},
          "execution_count": 294
        }
      ],
      "source": [
        "# l[:N] is equivalent to l[0:N].\n",
        "first_three = l[:3]\n",
        "first_three"
      ]
    },
    {
      "cell_type": "markdown",
      "source": [
        "#My example 5"
      ],
      "metadata": {
        "id": "NjfPkgYCFokR"
      }
    },
    {
      "cell_type": "code",
      "source": [
        "primero_tercero = h[:3]\n",
        "primero_tercero\n"
      ],
      "metadata": {
        "colab": {
          "base_uri": "https://localhost:8080/"
        },
        "id": "KIqNwNlkx1wZ",
        "outputId": "4b5949de-02ef-47da-cace-27f38d18f1ac"
      },
      "execution_count": 295,
      "outputs": [
        {
          "output_type": "execute_result",
          "data": {
            "text/plain": [
              "[598, 'caballo', 2.97865]"
            ]
          },
          "metadata": {},
          "execution_count": 295
        }
      ]
    },
    {
      "cell_type": "code",
      "execution_count": 296,
      "metadata": {
        "colab": {
          "base_uri": "https://localhost:8080/"
        },
        "id": "70Ogq-lDu0zn",
        "outputId": "7c971675-9dff-41f2-a93e-088e3ff25fa8"
      },
      "outputs": [
        {
          "output_type": "execute_result",
          "data": {
            "text/plain": [
              "[4, 5.0, 'six']"
            ]
          },
          "metadata": {},
          "execution_count": 296
        }
      ],
      "source": [
        "# l[3:] is equivalent to l[3:len(l)].\n",
        "after_three = l[3:]\n",
        "after_three"
      ]
    },
    {
      "cell_type": "markdown",
      "source": [
        "#My example 6\n"
      ],
      "metadata": {
        "id": "vWfuaueGFvAB"
      }
    },
    {
      "cell_type": "code",
      "source": [
        "despues_tres = h[3:]\n",
        "despues_tres"
      ],
      "metadata": {
        "colab": {
          "base_uri": "https://localhost:8080/"
        },
        "id": "RfHx7s5Ix9Oi",
        "outputId": "a0bc9d72-7ebb-415b-eaea-d6703dfd70f6"
      },
      "execution_count": 297,
      "outputs": [
        {
          "output_type": "execute_result",
          "data": {
            "text/plain": [
              "[4.245, 1238, 'vaca']"
            ]
          },
          "metadata": {},
          "execution_count": 297
        }
      ]
    },
    {
      "cell_type": "code",
      "execution_count": 298,
      "metadata": {
        "colab": {
          "base_uri": "https://localhost:8080/"
        },
        "id": "ybUB41Ryu0zo",
        "outputId": "94c6fddc-3726-47cf-e69e-579699a86408"
      },
      "outputs": [
        {
          "output_type": "execute_result",
          "data": {
            "text/plain": [
              "['b', 'd', 'f']"
            ]
          },
          "metadata": {},
          "execution_count": 298
        }
      ],
      "source": [
        "# There's also a third parameter, \"step\", which gets every Nth element.\n",
        "l = ['a', 'b', 'c', 'd', 'e', 'f', 'g','h']\n",
        "l[1:7:2]"
      ]
    },
    {
      "cell_type": "markdown",
      "source": [
        "#My example 7"
      ],
      "metadata": {
        "id": "CzMqtHhiF0nJ"
      }
    },
    {
      "cell_type": "code",
      "source": [
        "w = ['z', 'y', 'w', 'v', 'u', 'r', 's','t']\n",
        "w[1:8:2]\n"
      ],
      "metadata": {
        "colab": {
          "base_uri": "https://localhost:8080/"
        },
        "id": "tWc1NYNayP5K",
        "outputId": "55335bff-07ad-454e-a7e8-2dd33e214fe4"
      },
      "execution_count": 299,
      "outputs": [
        {
          "output_type": "execute_result",
          "data": {
            "text/plain": [
              "['y', 'v', 'r', 't']"
            ]
          },
          "metadata": {},
          "execution_count": 299
        }
      ]
    },
    {
      "cell_type": "code",
      "execution_count": 300,
      "metadata": {
        "colab": {
          "base_uri": "https://localhost:8080/"
        },
        "id": "9iWDJpkou0zo",
        "outputId": "db230b6c-6edc-4ded-f0e6-d254d04eb9bf"
      },
      "outputs": [
        {
          "output_type": "execute_result",
          "data": {
            "text/plain": [
              "['h', 'g', 'f', 'e', 'd', 'c', 'b', 'a']"
            ]
          },
          "metadata": {},
          "execution_count": 300
        }
      ],
      "source": [
        "# This is a cute way to reverse a list.\n",
        "l[::-1]"
      ]
    },
    {
      "cell_type": "markdown",
      "source": [
        "#My example 8\n"
      ],
      "metadata": {
        "id": "cUumi91jF6U3"
      }
    },
    {
      "cell_type": "code",
      "source": [
        "w[::-1]\n"
      ],
      "metadata": {
        "colab": {
          "base_uri": "https://localhost:8080/"
        },
        "id": "M4MgwtmXydEj",
        "outputId": "6ad62833-a21b-4705-d8a4-dab8a5ebb943"
      },
      "execution_count": 301,
      "outputs": [
        {
          "output_type": "execute_result",
          "data": {
            "text/plain": [
              "['t', 's', 'r', 'u', 'v', 'w', 'y', 'z']"
            ]
          },
          "metadata": {},
          "execution_count": 301
        }
      ]
    },
    {
      "cell_type": "code",
      "execution_count": 302,
      "metadata": {
        "colab": {
          "base_uri": "https://localhost:8080/"
        },
        "id": "W-jMxX9Tu0zt",
        "outputId": "2c4045db-68b4-48a0-c7d5-ab101cfb7d64"
      },
      "outputs": [
        {
          "output_type": "stream",
          "name": "stdout",
          "text": [
            "Before: [1, 2, 3, 4, 5]\n",
            "After: [1, 2, 3, 4, 5, 'six']\n"
          ]
        }
      ],
      "source": [
        "# Lists can be grown efficiently (in O(1) amortized time).\n",
        "l = [1, 2, 3, 4, 5]\n",
        "print(\"Before:\", l)\n",
        "l.append('six')\n",
        "print(\"After:\", l)"
      ]
    },
    {
      "cell_type": "markdown",
      "source": [
        "#My example 9\n"
      ],
      "metadata": {
        "id": "21OAuhG-GDyI"
      }
    },
    {
      "cell_type": "code",
      "source": [
        "t = [9, 8, 7, 6, 5]\n",
        "print(\"Antes:\", t)\n",
        "t.append('caballo')\n",
        "print(\"despues:\", t)"
      ],
      "metadata": {
        "colab": {
          "base_uri": "https://localhost:8080/"
        },
        "id": "8dMdRtOgyhIB",
        "outputId": "6738db4f-ee23-4212-c594-cce2ca9d38ae"
      },
      "execution_count": 303,
      "outputs": [
        {
          "output_type": "stream",
          "name": "stdout",
          "text": [
            "Antes: [9, 8, 7, 6, 5]\n",
            "despues: [9, 8, 7, 6, 5, 'caballo']\n"
          ]
        }
      ]
    },
    {
      "cell_type": "code",
      "execution_count": 304,
      "metadata": {
        "colab": {
          "base_uri": "https://localhost:8080/"
        },
        "id": "3bUPTLI6u0zt",
        "outputId": "5db3fa6c-7756-478d-fefe-91c2aea7a307"
      },
      "outputs": [
        {
          "output_type": "execute_result",
          "data": {
            "text/plain": [
              "[2, 4, 6, 8, 10]"
            ]
          },
          "metadata": {},
          "execution_count": 304
        }
      ],
      "source": [
        "# Comprehensions let us perform elementwise computations.\n",
        "l = [1, 2, 3, 4, 5]\n",
        "[x * 2 for x in l]"
      ]
    },
    {
      "cell_type": "markdown",
      "source": [
        "#My example 10"
      ],
      "metadata": {
        "id": "Dw9FpJNQGE0k"
      }
    },
    {
      "cell_type": "code",
      "source": [
        "t = [2, 4, 6, 8, 10]\n",
        "[y * 2 for y in t]"
      ],
      "metadata": {
        "colab": {
          "base_uri": "https://localhost:8080/"
        },
        "id": "VHmoW0eUytsh",
        "outputId": "e54000ed-2fb3-4ce0-922d-83e10d79283f"
      },
      "execution_count": 305,
      "outputs": [
        {
          "output_type": "execute_result",
          "data": {
            "text/plain": [
              "[4, 8, 12, 16, 20]"
            ]
          },
          "metadata": {},
          "execution_count": 305
        }
      ]
    },
    {
      "cell_type": "markdown",
      "metadata": {
        "ein.tags": "worksheet-0",
        "id": "raz80HNYu0zt"
      },
      "source": [
        "## Review: Python Lists\n",
        "\n",
        "- Zero-indexed sequence of arbitrary Python values.\n",
        "- Slicing syntax: `l[start:stop:step]` copies elements at regular intervals from `start` to `stop`.\n",
        "- Efficient (`O(1)`) appends and removes from end.\n",
        "- Comprehension syntax: `[f(x) for x in l if cond(x)]`."
      ]
    },
    {
      "cell_type": "markdown",
      "metadata": {
        "id": "iRs423fEu0zu"
      },
      "source": [
        "# Dictionaries"
      ]
    },
    {
      "cell_type": "code",
      "execution_count": 306,
      "metadata": {
        "colab": {
          "base_uri": "https://localhost:8080/"
        },
        "id": "hZG0K4SQu0zu",
        "outputId": "1268bc6b-8f69-4dc7-f04b-0514cb0176df"
      },
      "outputs": [
        {
          "output_type": "execute_result",
          "data": {
            "text/plain": [
              "{'Bertrand': 'Russell', 'David': 'Hume', 'Immanuel': 'Kant'}"
            ]
          },
          "metadata": {},
          "execution_count": 306
        }
      ],
      "source": [
        "# Dictionaries are key-value mappings.\n",
        "philosophers = {'David': 'Hume', 'Immanuel': 'Kant', 'Bertrand': 'Russell'}\n",
        "philosophers"
      ]
    },
    {
      "cell_type": "markdown",
      "source": [
        "#My example 11\n"
      ],
      "metadata": {
        "id": "UORIQqTWGF0A"
      }
    },
    {
      "cell_type": "code",
      "source": [
        "actores = {'leonardo': 'bale', 'tom': 'toby', 'roca': 'brad'}\n",
        "actores"
      ],
      "metadata": {
        "colab": {
          "base_uri": "https://localhost:8080/"
        },
        "id": "CkFlbhuazQFo",
        "outputId": "a537acf5-8458-404f-a6e0-8594638fb674"
      },
      "execution_count": 307,
      "outputs": [
        {
          "output_type": "execute_result",
          "data": {
            "text/plain": [
              "{'leonardo': 'bale', 'roca': 'brad', 'tom': 'toby'}"
            ]
          },
          "metadata": {},
          "execution_count": 307
        }
      ]
    },
    {
      "cell_type": "code",
      "execution_count": 308,
      "metadata": {
        "colab": {
          "base_uri": "https://localhost:8080/"
        },
        "id": "2RVNjc3ou0zu",
        "outputId": "f2f6138c-9a86-4817-e06a-c94c849db58a"
      },
      "outputs": [
        {
          "output_type": "execute_result",
          "data": {
            "text/plain": [
              "{'Bertrand': 'Russell',\n",
              " 'David': 'Hume',\n",
              " 'Immanuel': 'Kant',\n",
              " 'Ludwig': 'Wittgenstein'}"
            ]
          },
          "metadata": {},
          "execution_count": 308
        }
      ],
      "source": [
        "# Like lists, dictionaries are size-mutable.\n",
        "philosophers['Ludwig'] = 'Wittgenstein'\n",
        "philosophers"
      ]
    },
    {
      "cell_type": "markdown",
      "source": [
        "#My example 12\n"
      ],
      "metadata": {
        "id": "gezG4DyaGGiR"
      }
    },
    {
      "cell_type": "code",
      "source": [
        "actores['tom'] = 'cruise'\n",
        "actores\n"
      ],
      "metadata": {
        "colab": {
          "base_uri": "https://localhost:8080/"
        },
        "id": "g24gaWXxznWR",
        "outputId": "3fa9e43f-83b4-439e-e755-3784f54da352"
      },
      "execution_count": 309,
      "outputs": [
        {
          "output_type": "execute_result",
          "data": {
            "text/plain": [
              "{'leonardo': 'bale', 'roca': 'brad', 'tom': 'cruise'}"
            ]
          },
          "metadata": {},
          "execution_count": 309
        }
      ]
    },
    {
      "cell_type": "code",
      "execution_count": 310,
      "metadata": {
        "colab": {
          "base_uri": "https://localhost:8080/"
        },
        "id": "UfbE5x_7u0zv",
        "outputId": "6ac2e4f1-c428-4603-9dd9-c983a7f0bfce"
      },
      "outputs": [
        {
          "output_type": "execute_result",
          "data": {
            "text/plain": [
              "{'Bertrand': 'Russell', 'Immanuel': 'Kant', 'Ludwig': 'Wittgenstein'}"
            ]
          },
          "metadata": {},
          "execution_count": 310
        }
      ],
      "source": [
        "del philosophers['David']\n",
        "philosophers"
      ]
    },
    {
      "cell_type": "markdown",
      "source": [
        "#My example 13\n"
      ],
      "metadata": {
        "id": "1SQeRIxHGHVJ"
      }
    },
    {
      "cell_type": "code",
      "source": [
        "del actores['leonardo']\n",
        "actores"
      ],
      "metadata": {
        "colab": {
          "base_uri": "https://localhost:8080/"
        },
        "id": "WAiNa8utzxuB",
        "outputId": "56af7fb2-b51e-49d9-cb1b-511f191bb7b5"
      },
      "execution_count": 311,
      "outputs": [
        {
          "output_type": "execute_result",
          "data": {
            "text/plain": [
              "{'roca': 'brad', 'tom': 'cruise'}"
            ]
          },
          "metadata": {},
          "execution_count": 311
        }
      ]
    },
    {
      "cell_type": "markdown",
      "metadata": {
        "ein.tags": "worksheet-0",
        "id": "_DSQDGpcu0zw"
      },
      "source": [
        "## Review: Python Dictionaries\n",
        "\n",
        "- Unordered key-value mapping from (almost) arbitrary keys to arbitrary values.\n",
        "- Efficient (`O(1)`) lookup, insertion, and deletion.\n",
        "- No slicing (would require a notion of order)."
      ]
    },
    {
      "cell_type": "markdown",
      "metadata": {
        "id": "sgm4quXYu0zw"
      },
      "source": [
        "<center><img src=\"images/pacino.gif\" alt=\"Drawing\" style=\"width: 100%;\"/></center>\n"
      ]
    },
    {
      "cell_type": "code",
      "execution_count": 312,
      "metadata": {
        "collapsed": true,
        "id": "0kQ3k2CZu0zw"
      },
      "outputs": [],
      "source": [
        "# Suppose we have some matrices...\n",
        "a = [[1, 2, 3],\n",
        "     [2, 3, 4],\n",
        "     [5, 6, 7],\n",
        "     [1, 1, 1]]\n",
        "\n",
        "b = [[1, 2, 3, 4],\n",
        "     [2, 3, 4, 5]]"
      ]
    },
    {
      "cell_type": "markdown",
      "source": [
        "#My example 14\n"
      ],
      "metadata": {
        "id": "cH6g0SekGaYo"
      }
    },
    {
      "cell_type": "code",
      "source": [
        "f = [[1, 1, 2],\n",
        "     [3, 5, 8],\n",
        "     [13, 21, 34],\n",
        "     [55, 89, 100]]\n",
        "\n",
        "p = [[3, 5, 7, 9],\n",
        "     [11, 13, 15, 17]]"
      ],
      "metadata": {
        "id": "zdQAg8Xgz31h"
      },
      "execution_count": 313,
      "outputs": []
    },
    {
      "cell_type": "code",
      "execution_count": 314,
      "metadata": {
        "collapsed": true,
        "id": "2-1KJ0KQu0zw"
      },
      "outputs": [],
      "source": [
        "def matmul(A, B):\n",
        "    \"\"\"Multiply matrix A by matrix B.\"\"\"\n",
        "    rows_out = len(A)\n",
        "    cols_out = len(B[0])\n",
        "    out = [[0 for col in range(cols_out)] for row in range(rows_out)]\n",
        "    \n",
        "    for i in range(rows_out):\n",
        "        for j in range(cols_out):\n",
        "            for k in range(len(B)):\n",
        "                out[i][j] += A[i][k] * B[k][j]\n",
        "    return out"
      ]
    },
    {
      "cell_type": "markdown",
      "source": [
        "#My example 15\n"
      ],
      "metadata": {
        "id": "i5quFifQGbUf"
      }
    },
    {
      "cell_type": "code",
      "source": [
        "def matmul(F, P):\n",
        "    \"\"\"Multiply matrix A by matrix B.\"\"\"\n",
        "    rows_out = len(F)\n",
        "    cols_out = len(P[0])\n",
        "    out = [[0 for col in range(cols_out)] for row in range(rows_out)]\n",
        "    \n",
        "    for i in range(rows_out):\n",
        "        for j in range(cols_out):\n",
        "            for k in range(len(T)):\n",
        "                out[i][j] += F[i][k] * P[k][j]\n",
        "    return out\n",
        "\n"
      ],
      "metadata": {
        "id": "_yDno0IY0Gb6"
      },
      "execution_count": 315,
      "outputs": []
    },
    {
      "cell_type": "markdown",
      "metadata": {
        "id": "1bjm-YGMu0zx"
      },
      "source": [
        "<center><img src=\"images/gross.gif\" alt=\"Drawing\" style=\"width: 50%;\"/></center>\n"
      ]
    },
    {
      "cell_type": "code",
      "execution_count": 316,
      "metadata": {
        "colab": {
          "base_uri": "https://localhost:8080/"
        },
        "id": "t9buNJWxu0zx",
        "outputId": "4f5f84e8-0332-47f6-bda7-f87b978fe0fc"
      },
      "outputs": [
        {
          "output_type": "execute_result",
          "data": {
            "text/plain": [
              "[[0.6236910886116375, 0.35178060435137604, 0.7374080197144912],\n",
              " [0.9834282862713456, 0.20939274376191508, 0.6935679849718572]]"
            ]
          },
          "metadata": {},
          "execution_count": 316
        }
      ],
      "source": [
        "import random\n",
        "def random_matrix(m, n):\n",
        "    out = []\n",
        "    for row in range(m):\n",
        "        out.append([random.random() for _ in range(n)])\n",
        "    return out\n",
        "\n",
        "randm = random_matrix(2, 3)\n",
        "randm"
      ]
    },
    {
      "cell_type": "markdown",
      "source": [
        "#My example 16\n"
      ],
      "metadata": {
        "id": "sz_ZCZPjGcR1"
      }
    },
    {
      "cell_type": "code",
      "source": [
        "import random\n",
        "def random_matrix(a, b ):\n",
        "    out = []\n",
        "    for row in range(a):\n",
        "        out.append([random.random() for _ in range(b)])\n",
        "    return out\n",
        "\n",
        "randm = random_matrix(4, 3)\n",
        "randm"
      ],
      "metadata": {
        "colab": {
          "base_uri": "https://localhost:8080/"
        },
        "id": "Co8UEvWm0gVA",
        "outputId": "aa187ca6-9671-48b3-9450-eff468779811"
      },
      "execution_count": 317,
      "outputs": [
        {
          "output_type": "execute_result",
          "data": {
            "text/plain": [
              "[[0.817997506223602, 0.8882909185227784, 0.1370860746996263],\n",
              " [0.7078543991212891, 0.9732775859893523, 0.31485013091893654],\n",
              " [0.8765663412564632, 0.8585683005529764, 0.9324901509782503],\n",
              " [0.825185230915928, 0.03250182070905849, 0.8744376975088868]]"
            ]
          },
          "metadata": {},
          "execution_count": 317
        }
      ]
    },
    {
      "cell_type": "code",
      "execution_count": 318,
      "metadata": {
        "collapsed": true,
        "id": "sR6reCXlu0zy"
      },
      "outputs": [],
      "source": [
        "# Maybe that's not that bad?  Let's try a simpler case.\n",
        "def python_dot_product(xs, ys):\n",
        "    return sum(x * y for x, y in zip(xs, ys))"
      ]
    },
    {
      "cell_type": "markdown",
      "source": [
        "#My example 17\n"
      ],
      "metadata": {
        "id": "NEgmqHy9GdJH"
      }
    },
    {
      "cell_type": "code",
      "source": [
        "# Maybe that's not that bad?  Let's try a simpler case.\n",
        "def python_dot_product(xs, ys):\n",
        "    return sum(x * y for x, y in zip(xs, ys))"
      ],
      "metadata": {
        "id": "wCLKNWXZ06TI"
      },
      "execution_count": 319,
      "outputs": []
    },
    {
      "cell_type": "code",
      "execution_count": 320,
      "metadata": {
        "collapsed": true,
        "id": "hOhtbiMSu0zy"
      },
      "outputs": [],
      "source": [
        "list_data = [float(i) for i in range(100000)]\n",
        "array_data = np.array(list_data)"
      ]
    },
    {
      "cell_type": "markdown",
      "source": [
        "#My example 18\n"
      ],
      "metadata": {
        "id": "IneSwpcMGd7K"
      }
    },
    {
      "cell_type": "code",
      "source": [
        "list_dato = [float(h) for h in range(50000)]\n",
        "array_dato = np.array(list_dato)"
      ],
      "metadata": {
        "id": "18XqnzeI1IHD"
      },
      "execution_count": 321,
      "outputs": []
    },
    {
      "cell_type": "code",
      "execution_count": 322,
      "metadata": {
        "colab": {
          "base_uri": "https://localhost:8080/"
        },
        "id": "bbvZvGe-u0zy",
        "outputId": "6e16e92e-dfc9-46aa-b785-71c861979981"
      },
      "outputs": [
        {
          "output_type": "stream",
          "name": "stdout",
          "text": [
            "CPU times: user 13 ms, sys: 0 ns, total: 13 ms\n",
            "Wall time: 13.1 ms\n"
          ]
        },
        {
          "output_type": "execute_result",
          "data": {
            "text/plain": [
              "333328333350000.0"
            ]
          },
          "metadata": {},
          "execution_count": 322
        }
      ],
      "source": [
        "%%time\n",
        "python_dot_product(list_data, list_data)"
      ]
    },
    {
      "cell_type": "markdown",
      "source": [
        "#My example 19\n"
      ],
      "metadata": {
        "id": "Gp96Eqt3GiBj"
      }
    },
    {
      "cell_type": "code",
      "source": [
        "%%time\n",
        "python_dot_product(list_dato, list_dato)\n"
      ],
      "metadata": {
        "colab": {
          "base_uri": "https://localhost:8080/"
        },
        "id": "5YNms5_m1QMJ",
        "outputId": "4802116a-c848-4493-ed91-41b9bf614ccd"
      },
      "execution_count": 323,
      "outputs": [
        {
          "output_type": "stream",
          "name": "stdout",
          "text": [
            "CPU times: user 6.18 ms, sys: 0 ns, total: 6.18 ms\n",
            "Wall time: 7.24 ms\n"
          ]
        },
        {
          "output_type": "execute_result",
          "data": {
            "text/plain": [
              "41665416675000.0"
            ]
          },
          "metadata": {},
          "execution_count": 323
        }
      ]
    },
    {
      "cell_type": "markdown",
      "metadata": {
        "id": "sZ8IjgiQu0zz"
      },
      "source": [
        "<center><img src=\"images/sloth.gif\" alt=\"Drawing\" style=\"width: 1080px;\"/></center>\n"
      ]
    },
    {
      "cell_type": "markdown",
      "metadata": {
        "id": "TCYhsR1Gu0zz"
      },
      "source": [
        "## Why is the Python Version so Much Slower?"
      ]
    },
    {
      "cell_type": "code",
      "execution_count": 324,
      "metadata": {
        "colab": {
          "base_uri": "https://localhost:8080/"
        },
        "id": "7XdKNDVQu0zz",
        "outputId": "06325337-6068-4053-d659-16127aaf07d3"
      },
      "outputs": [
        {
          "output_type": "execute_result",
          "data": {
            "text/plain": [
              "[1, (4+0j), 9.0, 'fourfourfourfour']"
            ]
          },
          "metadata": {},
          "execution_count": 324
        }
      ],
      "source": [
        "# Dynamic typing.\n",
        "def mul_elemwise(xs, ys):\n",
        "    return [x * y for x, y in zip(xs, ys)]\n",
        "\n",
        "mul_elemwise([1, 2, 3, 4], [1, 2 + 0j, 3.0, 'four'])\n",
        "#[type(x) for x in _]"
      ]
    },
    {
      "cell_type": "markdown",
      "source": [
        "#My example 20\n"
      ],
      "metadata": {
        "id": "hYDtIPo4GsHi"
      }
    },
    {
      "cell_type": "code",
      "source": [
        "def mul_elemwise(xs, ys):\n",
        "    return [x * y for x, y in zip(xs, ys)]\n",
        "\n",
        "mul_elemwise([2, 4, 6, 8], [1, 3 + 5j, 7.0, 'nueve'])"
      ],
      "metadata": {
        "colab": {
          "base_uri": "https://localhost:8080/"
        },
        "id": "5_bt4Ozr14EP",
        "outputId": "08c793dc-7dbd-43ce-a865-0f7deb4f77f1"
      },
      "execution_count": 325,
      "outputs": [
        {
          "output_type": "execute_result",
          "data": {
            "text/plain": [
              "[2, (12+20j), 42.0, 'nuevenuevenuevenuevenuevenuevenuevenueve']"
            ]
          },
          "metadata": {},
          "execution_count": 325
        }
      ]
    },
    {
      "cell_type": "markdown",
      "metadata": {
        "id": "OU_8Vxuhu0z0"
      },
      "source": [
        "## Why is the Python Version so Slow?\n",
        "- Dynamic typing means that every single operation requires dispatching on the input type.\n",
        "- Having an interpreter means that every instruction is fetched and dispatched at runtime.\n",
        "- Other overheads:\n",
        "  - Arbitrary-size integers.\n",
        "  - Reference-counted garbage collection."
      ]
    },
    {
      "cell_type": "markdown",
      "metadata": {
        "id": "7qnvWWaou0z0"
      },
      "source": [
        "> This is the paradox that we have to work with when we're doing scientific or numerically-intensive Python. What makes Python fast for development -- this high-level, interpreted, and dynamically-typed aspect of the language -- is exactly what makes it slow for code execution.\n",
        "\n",
        "- Jake VanderPlas, [*Losing Your Loops: Fast Numerical Computing with NumPy*](https://www.youtube.com/watch?v=EEUXKG97YRw)"
      ]
    },
    {
      "cell_type": "markdown",
      "metadata": {
        "id": "1KLydOi6u0z0"
      },
      "source": [
        "# What Do We Do?"
      ]
    },
    {
      "cell_type": "markdown",
      "metadata": {
        "id": "xoqB5PIsu0z0"
      },
      "source": [
        "<center><img src=\"images/runaway.gif\" alt=\"Drawing\" style=\"width: 50%;\"/></center>"
      ]
    },
    {
      "cell_type": "markdown",
      "metadata": {
        "id": "lAwrXufju0z0"
      },
      "source": [
        "<center><img src=\"images/thisisfine.gif\" alt=\"Drawing\" style=\"width: 1080px;\"/></center>"
      ]
    },
    {
      "cell_type": "markdown",
      "metadata": {
        "id": "6-DjRgpbu0z1"
      },
      "source": [
        "- Python is slow for numerical computation because it performs dynamic dispatch on every operation we perform..."
      ]
    },
    {
      "cell_type": "markdown",
      "metadata": {
        "collapsed": true,
        "id": "6ZiNva3Bu0z1"
      },
      "source": [
        "- ...but often, we just want to do the same thing over and over in a loop!"
      ]
    },
    {
      "cell_type": "markdown",
      "metadata": {
        "id": "LYdsfDPYu0z1"
      },
      "source": [
        "- If we don't need Python's dynamicism, we don't want to pay (much) for it."
      ]
    },
    {
      "cell_type": "markdown",
      "metadata": {
        "id": "9ruU_CEbu0z1"
      },
      "source": [
        "- **Idea:** Dispatch **once per operation** instead of **once per element**."
      ]
    },
    {
      "cell_type": "code",
      "execution_count": 326,
      "metadata": {
        "colab": {
          "base_uri": "https://localhost:8080/"
        },
        "id": "uwZcSm96u0z1",
        "outputId": "8d98536a-25aa-45b1-e299-84c7b8f9e497"
      },
      "outputs": [
        {
          "output_type": "execute_result",
          "data": {
            "text/plain": [
              "array([1, 2, 3, 4])"
            ]
          },
          "metadata": {},
          "execution_count": 326
        }
      ],
      "source": [
        "import numpy as np\n",
        "\n",
        "data = np.array([1, 2, 3, 4])\n",
        "data"
      ]
    },
    {
      "cell_type": "markdown",
      "source": [
        "#My example 21\n"
      ],
      "metadata": {
        "id": "szc5hwRhG7QY"
      }
    },
    {
      "cell_type": "code",
      "source": [
        "dato = np.array([6, 1, 9, 7])\n",
        "dato\n"
      ],
      "metadata": {
        "colab": {
          "base_uri": "https://localhost:8080/"
        },
        "id": "t23Jvd622Lzn",
        "outputId": "9965b7e2-59d8-49db-f0ed-98cf7581f2c1"
      },
      "execution_count": 327,
      "outputs": [
        {
          "output_type": "execute_result",
          "data": {
            "text/plain": [
              "array([6, 1, 9, 7])"
            ]
          },
          "metadata": {},
          "execution_count": 327
        }
      ]
    },
    {
      "cell_type": "code",
      "execution_count": 328,
      "metadata": {
        "colab": {
          "base_uri": "https://localhost:8080/"
        },
        "id": "EytJBD0Xu0z1",
        "outputId": "b23df6a7-57d6-416a-e087-0ab086209459"
      },
      "outputs": [
        {
          "output_type": "execute_result",
          "data": {
            "text/plain": [
              "array([2, 4, 6, 8])"
            ]
          },
          "metadata": {},
          "execution_count": 328
        }
      ],
      "source": [
        "data + data"
      ]
    },
    {
      "cell_type": "markdown",
      "source": [
        "#My example 22\n"
      ],
      "metadata": {
        "id": "idY2eqsSHGpK"
      }
    },
    {
      "cell_type": "code",
      "source": [
        "dato + dato"
      ],
      "metadata": {
        "colab": {
          "base_uri": "https://localhost:8080/"
        },
        "id": "gfRCkXXZ2RhP",
        "outputId": "9600c835-84df-4488-cade-0bcb648dad14"
      },
      "execution_count": 329,
      "outputs": [
        {
          "output_type": "execute_result",
          "data": {
            "text/plain": [
              "array([12,  2, 18, 14])"
            ]
          },
          "metadata": {},
          "execution_count": 329
        }
      ]
    },
    {
      "cell_type": "code",
      "execution_count": 330,
      "metadata": {
        "colab": {
          "base_uri": "https://localhost:8080/"
        },
        "id": "aTd_DyoTu0z2",
        "outputId": "386182af-1f76-494c-9728-88126e283832"
      },
      "outputs": [
        {
          "output_type": "stream",
          "name": "stdout",
          "text": [
            "CPU times: user 465 µs, sys: 73 µs, total: 538 µs\n",
            "Wall time: 550 µs\n"
          ]
        },
        {
          "output_type": "execute_result",
          "data": {
            "text/plain": [
              "333328333350000.0"
            ]
          },
          "metadata": {},
          "execution_count": 330
        }
      ],
      "source": [
        "%%time\n",
        "# Naive dot product\n",
        "(array_data * array_data).sum()"
      ]
    },
    {
      "cell_type": "markdown",
      "source": [
        "#My example 23\n"
      ],
      "metadata": {
        "id": "uV2haGeNHHPO"
      }
    },
    {
      "cell_type": "code",
      "source": [
        "%%time\n",
        "(array_dato * array_dato).sum()"
      ],
      "metadata": {
        "colab": {
          "base_uri": "https://localhost:8080/"
        },
        "id": "t-_KO8f42WB-",
        "outputId": "fba68c99-ba23-4a02-bffe-8f68c740d530"
      },
      "execution_count": 331,
      "outputs": [
        {
          "output_type": "stream",
          "name": "stdout",
          "text": [
            "CPU times: user 258 µs, sys: 40 µs, total: 298 µs\n",
            "Wall time: 309 µs\n"
          ]
        },
        {
          "output_type": "execute_result",
          "data": {
            "text/plain": [
              "41665416675000.0"
            ]
          },
          "metadata": {},
          "execution_count": 331
        }
      ]
    },
    {
      "cell_type": "code",
      "execution_count": 332,
      "metadata": {
        "colab": {
          "base_uri": "https://localhost:8080/"
        },
        "id": "ofj_7QrLu0z2",
        "outputId": "48a451b6-0cc5-45ed-cbdd-e91d7ad8b473"
      },
      "outputs": [
        {
          "output_type": "stream",
          "name": "stdout",
          "text": [
            "CPU times: user 2.13 ms, sys: 335 µs, total: 2.47 ms\n",
            "Wall time: 3.91 ms\n"
          ]
        },
        {
          "output_type": "execute_result",
          "data": {
            "text/plain": [
              "333328333350000.0"
            ]
          },
          "metadata": {},
          "execution_count": 332
        }
      ],
      "source": [
        "%%time\n",
        "# Built-in dot product.\n",
        "array_data.dot(array_data)"
      ]
    },
    {
      "cell_type": "markdown",
      "source": [
        "#My example 24\n"
      ],
      "metadata": {
        "id": "8m6OQ6duHIWV"
      }
    },
    {
      "cell_type": "code",
      "source": [
        "array_dato.dot(array_dato)\n"
      ],
      "metadata": {
        "colab": {
          "base_uri": "https://localhost:8080/"
        },
        "id": "82fySACf2c3Q",
        "outputId": "5b030601-c84d-4a9f-9b8d-fb91b45b6058"
      },
      "execution_count": 333,
      "outputs": [
        {
          "output_type": "execute_result",
          "data": {
            "text/plain": [
              "41665416675000.0"
            ]
          },
          "metadata": {},
          "execution_count": 333
        }
      ]
    },
    {
      "cell_type": "code",
      "execution_count": 334,
      "metadata": {
        "collapsed": true,
        "colab": {
          "base_uri": "https://localhost:8080/"
        },
        "id": "Nj4Ap-4xu0z3",
        "outputId": "1b200d96-b1a5-45e3-ac5b-259ae85bd6ea"
      },
      "outputs": [
        {
          "output_type": "execute_result",
          "data": {
            "text/plain": [
              "array([[1, 2],\n",
              "       [3, 4]])"
            ]
          },
          "metadata": {},
          "execution_count": 334
        }
      ],
      "source": [
        "# We **can** reshape an array though.\n",
        "two_by_two = data.reshape(2, 2)\n",
        "two_by_two"
      ]
    },
    {
      "cell_type": "markdown",
      "source": [
        "#My example 25\n"
      ],
      "metadata": {
        "id": "woz60NztHMsb"
      }
    },
    {
      "cell_type": "code",
      "source": [
        "d_por_d = dato.reshape(2, 2)\n",
        "d_por_d"
      ],
      "metadata": {
        "colab": {
          "base_uri": "https://localhost:8080/"
        },
        "id": "RXGHiBAu2nBu",
        "outputId": "97d44b53-302e-422b-b730-4615c3b8d59f"
      },
      "execution_count": 335,
      "outputs": [
        {
          "output_type": "execute_result",
          "data": {
            "text/plain": [
              "array([[6, 1],\n",
              "       [9, 7]])"
            ]
          },
          "metadata": {},
          "execution_count": 335
        }
      ]
    },
    {
      "cell_type": "markdown",
      "metadata": {
        "id": "gUdoCtIeu0z3"
      },
      "source": [
        "Numpy arrays are:\n",
        "\n",
        "- Fixed-type"
      ]
    },
    {
      "cell_type": "markdown",
      "metadata": {
        "id": "yoK6GmwQu0z3"
      },
      "source": [
        "- Size-immutable"
      ]
    },
    {
      "cell_type": "markdown",
      "metadata": {
        "id": "rb__wzjsu0z3"
      },
      "source": [
        "- Multi-dimensional"
      ]
    },
    {
      "cell_type": "markdown",
      "metadata": {
        "id": "bL9b0xEWu0z3"
      },
      "source": [
        "- Fast\\*"
      ]
    },
    {
      "cell_type": "markdown",
      "metadata": {
        "id": "uUX5GqK-u0z3"
      },
      "source": [
        "\\* If you use them correctly."
      ]
    },
    {
      "cell_type": "markdown",
      "metadata": {
        "id": "tJGQVKAQu0z4"
      },
      "source": [
        "# What's in an Array?"
      ]
    },
    {
      "cell_type": "code",
      "execution_count": 336,
      "metadata": {
        "colab": {
          "base_uri": "https://localhost:8080/"
        },
        "id": "ercjhuFVu0z4",
        "outputId": "e0d65788-1b40-48e3-dffa-aa93738a1d4d"
      },
      "outputs": [
        {
          "output_type": "stream",
          "name": "stdout",
          "text": [
            "Array:\n",
            "[[1 2 3]\n",
            " [4 5 6]]\n",
            "===========\n",
            "DType: int16\n",
            "Shape: (2, 3)\n",
            "Strides: (6, 2)\n",
            "Data: b'\\x01\\x00\\x02\\x00\\x03\\x00\\x04\\x00\\x05\\x00\\x06\\x00'\n"
          ]
        }
      ],
      "source": [
        "arr = np.array([1, 2, 3, 4, 5, 6], dtype='int16').reshape(2, 3)\n",
        "print(\"Array:\\n\", arr, sep='')\n",
        "print(\"===========\")\n",
        "print(\"DType:\", arr.dtype)\n",
        "print(\"Shape:\", arr.shape)\n",
        "print(\"Strides:\", arr.strides)\n",
        "print(\"Data:\", arr.data.tobytes())"
      ]
    },
    {
      "cell_type": "markdown",
      "source": [
        "#My example 26\n"
      ],
      "metadata": {
        "id": "OzyiZFFAHN1k"
      }
    },
    {
      "cell_type": "code",
      "source": [
        "arr = np.array([78, 619, 715, 897, 289, 967], dtype='int16').reshape(3, 2)\n",
        "print(\"Array:\\n\", arr, sep='')\n",
        "print(\"===========\")\n",
        "print(\"DType:\", arr.dtype)\n",
        "print(\"Shape:\", arr.shape)\n",
        "print(\"Strides:\", arr.strides)\n",
        "print(\"Data:\", arr.data.tobytes())"
      ],
      "metadata": {
        "colab": {
          "base_uri": "https://localhost:8080/"
        },
        "id": "Rn-3QAlG2z_k",
        "outputId": "00d97803-a9e5-4338-df4a-f9d14b256f2d"
      },
      "execution_count": 337,
      "outputs": [
        {
          "output_type": "stream",
          "name": "stdout",
          "text": [
            "Array:\n",
            "[[ 78 619]\n",
            " [715 897]\n",
            " [289 967]]\n",
            "===========\n",
            "DType: int16\n",
            "Shape: (3, 2)\n",
            "Strides: (4, 2)\n",
            "Data: b'N\\x00k\\x02\\xcb\\x02\\x81\\x03!\\x01\\xc7\\x03'\n"
          ]
        }
      ]
    },
    {
      "cell_type": "markdown",
      "metadata": {
        "id": "_RYyYy8ku0z4"
      },
      "source": [
        "# Core Operations\n",
        "\n",
        "- Vectorized **ufuncs** for elementwise operations.\n",
        "- Fancy indexing and masking for selection and filtering.\n",
        "- Aggregations across axes.\n",
        "- Broadcasting"
      ]
    },
    {
      "cell_type": "markdown",
      "metadata": {
        "id": "1AXB71WGu0z4"
      },
      "source": [
        "# UFuncs\n",
        "\n",
        "UFuncs (universal functions) are functions that operate elementwise on one or more arrays."
      ]
    },
    {
      "cell_type": "code",
      "execution_count": 338,
      "metadata": {
        "colab": {
          "base_uri": "https://localhost:8080/"
        },
        "id": "rPYy7aQVu0z4",
        "outputId": "e9f81c4f-1ffd-4a2f-855d-a88cb0cc92af"
      },
      "outputs": [
        {
          "output_type": "execute_result",
          "data": {
            "text/plain": [
              "array([[ 0,  1,  2,  3,  4],\n",
              "       [ 5,  6,  7,  8,  9],\n",
              "       [10, 11, 12, 13, 14]])"
            ]
          },
          "metadata": {},
          "execution_count": 338
        }
      ],
      "source": [
        "data = np.arange(15).reshape(3, 5)\n",
        "data"
      ]
    },
    {
      "cell_type": "markdown",
      "source": [
        "#My example 27\n"
      ],
      "metadata": {
        "id": "va4dovNUHOzr"
      }
    },
    {
      "cell_type": "code",
      "source": [
        "dato = np.arange(49).reshape(7, 7)\n",
        "dato"
      ],
      "metadata": {
        "colab": {
          "base_uri": "https://localhost:8080/"
        },
        "id": "IL10bcC03VV3",
        "outputId": "b037b0f0-7d99-4347-a30c-dbce9371ef20"
      },
      "execution_count": 339,
      "outputs": [
        {
          "output_type": "execute_result",
          "data": {
            "text/plain": [
              "array([[ 0,  1,  2,  3,  4,  5,  6],\n",
              "       [ 7,  8,  9, 10, 11, 12, 13],\n",
              "       [14, 15, 16, 17, 18, 19, 20],\n",
              "       [21, 22, 23, 24, 25, 26, 27],\n",
              "       [28, 29, 30, 31, 32, 33, 34],\n",
              "       [35, 36, 37, 38, 39, 40, 41],\n",
              "       [42, 43, 44, 45, 46, 47, 48]])"
            ]
          },
          "metadata": {},
          "execution_count": 339
        }
      ]
    },
    {
      "cell_type": "code",
      "execution_count": 340,
      "metadata": {
        "colab": {
          "base_uri": "https://localhost:8080/"
        },
        "id": "bwTFn9dwu0z4",
        "outputId": "c8767287-846c-44af-926e-4794482f8c88"
      },
      "outputs": [
        {
          "output_type": "execute_result",
          "data": {
            "text/plain": [
              "array([[  0,   1,   4,   9,  16],\n",
              "       [ 25,  36,  49,  64,  81],\n",
              "       [100, 121, 144, 169, 196]])"
            ]
          },
          "metadata": {},
          "execution_count": 340
        }
      ],
      "source": [
        "# Binary operators.\n",
        "data * data"
      ]
    },
    {
      "cell_type": "markdown",
      "source": [
        "#My example 28\n"
      ],
      "metadata": {
        "id": "kAI5AJuBHPwt"
      }
    },
    {
      "cell_type": "code",
      "source": [
        "dato*dato"
      ],
      "metadata": {
        "colab": {
          "base_uri": "https://localhost:8080/"
        },
        "id": "bMGI0xK13fFf",
        "outputId": "987c0fcd-836d-4e09-ba81-e2b22c6f529c"
      },
      "execution_count": 341,
      "outputs": [
        {
          "output_type": "execute_result",
          "data": {
            "text/plain": [
              "array([[   0,    1,    4,    9,   16,   25,   36],\n",
              "       [  49,   64,   81,  100,  121,  144,  169],\n",
              "       [ 196,  225,  256,  289,  324,  361,  400],\n",
              "       [ 441,  484,  529,  576,  625,  676,  729],\n",
              "       [ 784,  841,  900,  961, 1024, 1089, 1156],\n",
              "       [1225, 1296, 1369, 1444, 1521, 1600, 1681],\n",
              "       [1764, 1849, 1936, 2025, 2116, 2209, 2304]])"
            ]
          },
          "metadata": {},
          "execution_count": 341
        }
      ]
    },
    {
      "cell_type": "code",
      "execution_count": 342,
      "metadata": {
        "colab": {
          "base_uri": "https://localhost:8080/"
        },
        "id": "10mwvpK_u0z5",
        "outputId": "da6cb7ce-1b30-441a-9f5a-c560ed81bae1"
      },
      "outputs": [
        {
          "output_type": "execute_result",
          "data": {
            "text/plain": [
              "array([[0.        , 1.        , 1.41421356, 1.73205081, 2.        ],\n",
              "       [2.23606798, 2.44948974, 2.64575131, 2.82842712, 3.        ],\n",
              "       [3.16227766, 3.31662479, 3.46410162, 3.60555128, 3.74165739]])"
            ]
          },
          "metadata": {},
          "execution_count": 342
        }
      ],
      "source": [
        "# Unary functions.\n",
        "np.sqrt(data)"
      ]
    },
    {
      "cell_type": "markdown",
      "source": [
        "#My example 29\n"
      ],
      "metadata": {
        "id": "LTrb6udOHRBv"
      }
    },
    {
      "cell_type": "code",
      "source": [
        "np.sqrt(dato)"
      ],
      "metadata": {
        "colab": {
          "base_uri": "https://localhost:8080/"
        },
        "id": "Q5RYCpwV3ofQ",
        "outputId": "023dbd33-263f-4f93-ea7d-5e5c76ae88a3"
      },
      "execution_count": 343,
      "outputs": [
        {
          "output_type": "execute_result",
          "data": {
            "text/plain": [
              "array([[0.        , 1.        , 1.41421356, 1.73205081, 2.        ,\n",
              "        2.23606798, 2.44948974],\n",
              "       [2.64575131, 2.82842712, 3.        , 3.16227766, 3.31662479,\n",
              "        3.46410162, 3.60555128],\n",
              "       [3.74165739, 3.87298335, 4.        , 4.12310563, 4.24264069,\n",
              "        4.35889894, 4.47213595],\n",
              "       [4.58257569, 4.69041576, 4.79583152, 4.89897949, 5.        ,\n",
              "        5.09901951, 5.19615242],\n",
              "       [5.29150262, 5.38516481, 5.47722558, 5.56776436, 5.65685425,\n",
              "        5.74456265, 5.83095189],\n",
              "       [5.91607978, 6.        , 6.08276253, 6.164414  , 6.244998  ,\n",
              "        6.32455532, 6.40312424],\n",
              "       [6.4807407 , 6.55743852, 6.63324958, 6.70820393, 6.78232998,\n",
              "        6.8556546 , 6.92820323]])"
            ]
          },
          "metadata": {},
          "execution_count": 343
        }
      ]
    },
    {
      "cell_type": "code",
      "execution_count": 344,
      "metadata": {
        "colab": {
          "base_uri": "https://localhost:8080/"
        },
        "id": "T-zDm-Giu0z5",
        "outputId": "fc54bab4-1690-4f46-9a46-a07ce5238579"
      },
      "outputs": [
        {
          "output_type": "execute_result",
          "data": {
            "text/plain": [
              "array([[ True, False, False,  True, False],\n",
              "       [False,  True, False, False,  True],\n",
              "       [False, False,  True, False, False]])"
            ]
          },
          "metadata": {},
          "execution_count": 344
        }
      ],
      "source": [
        "# Comparison operations\n",
        "(data % 3) == 0"
      ]
    },
    {
      "cell_type": "markdown",
      "source": [
        "#My example 30\n"
      ],
      "metadata": {
        "id": "KKf_7Ag9HSEN"
      }
    },
    {
      "cell_type": "code",
      "source": [
        "(dato % 8) == 0"
      ],
      "metadata": {
        "colab": {
          "base_uri": "https://localhost:8080/"
        },
        "id": "fP5Pie5O3saz",
        "outputId": "14b80627-20a5-45b8-9153-b119140cc0e7"
      },
      "execution_count": 345,
      "outputs": [
        {
          "output_type": "execute_result",
          "data": {
            "text/plain": [
              "array([[ True, False, False, False, False, False, False],\n",
              "       [False,  True, False, False, False, False, False],\n",
              "       [False, False,  True, False, False, False, False],\n",
              "       [False, False, False,  True, False, False, False],\n",
              "       [False, False, False, False,  True, False, False],\n",
              "       [False, False, False, False, False,  True, False],\n",
              "       [False, False, False, False, False, False,  True]])"
            ]
          },
          "metadata": {},
          "execution_count": 345
        }
      ]
    },
    {
      "cell_type": "code",
      "execution_count": 346,
      "metadata": {
        "colab": {
          "base_uri": "https://localhost:8080/"
        },
        "id": "uJMS4tsuu0z5",
        "outputId": "74d7dbf0-1456-4380-e1b7-cde768afd69b"
      },
      "outputs": [
        {
          "output_type": "execute_result",
          "data": {
            "text/plain": [
              "array([[ True, False, False, False, False],\n",
              "       [False,  True, False, False, False],\n",
              "       [False, False,  True, False, False]])"
            ]
          },
          "metadata": {},
          "execution_count": 346
        }
      ],
      "source": [
        "# Boolean combinators.\n",
        "((data % 2) == 0) & ((data % 3) == 0)"
      ]
    },
    {
      "cell_type": "markdown",
      "source": [
        "#My example 31\n"
      ],
      "metadata": {
        "id": "Zn8deXN_HTEc"
      }
    },
    {
      "cell_type": "code",
      "source": [
        "((dato % 5) == 0) & ((dato % 3) == 0)"
      ],
      "metadata": {
        "colab": {
          "base_uri": "https://localhost:8080/"
        },
        "id": "PdPt6MUy3w0W",
        "outputId": "6d2e859a-9f72-473b-c0ad-774cb0770125"
      },
      "execution_count": 347,
      "outputs": [
        {
          "output_type": "execute_result",
          "data": {
            "text/plain": [
              "array([[ True, False, False, False, False, False, False],\n",
              "       [False, False, False, False, False, False, False],\n",
              "       [False,  True, False, False, False, False, False],\n",
              "       [False, False, False, False, False, False, False],\n",
              "       [False, False,  True, False, False, False, False],\n",
              "       [False, False, False, False, False, False, False],\n",
              "       [False, False, False,  True, False, False, False]])"
            ]
          },
          "metadata": {},
          "execution_count": 347
        }
      ]
    },
    {
      "cell_type": "code",
      "execution_count": 348,
      "metadata": {
        "colab": {
          "base_uri": "https://localhost:8080/"
        },
        "id": "aX7bjZsLu0z5",
        "outputId": "1e8c9feb-4797-473e-eb49-310da7d9aa5c"
      },
      "outputs": [
        {
          "output_type": "execute_result",
          "data": {
            "text/plain": [
              "array([[ 30,  80, 130],\n",
              "       [ 80, 255, 430],\n",
              "       [130, 430, 730]])"
            ]
          },
          "metadata": {},
          "execution_count": 348
        }
      ],
      "source": [
        "# as of python 3.5, @ is matrix-multiply\n",
        "data @ data.T"
      ]
    },
    {
      "cell_type": "markdown",
      "source": [
        "#My example 32\n"
      ],
      "metadata": {
        "id": "mln3O-q5HUNM"
      }
    },
    {
      "cell_type": "code",
      "source": [
        "dato @ dato.T\n"
      ],
      "metadata": {
        "colab": {
          "base_uri": "https://localhost:8080/"
        },
        "id": "-F75--ae32rB",
        "outputId": "0be6ef34-5f8a-47be-9e6e-5b125ae8d21d"
      },
      "execution_count": 349,
      "outputs": [
        {
          "output_type": "execute_result",
          "data": {
            "text/plain": [
              "array([[   91,   238,   385,   532,   679,   826,   973],\n",
              "       [  238,   728,  1218,  1708,  2198,  2688,  3178],\n",
              "       [  385,  1218,  2051,  2884,  3717,  4550,  5383],\n",
              "       [  532,  1708,  2884,  4060,  5236,  6412,  7588],\n",
              "       [  679,  2198,  3717,  5236,  6755,  8274,  9793],\n",
              "       [  826,  2688,  4550,  6412,  8274, 10136, 11998],\n",
              "       [  973,  3178,  5383,  7588,  9793, 11998, 14203]])"
            ]
          },
          "metadata": {},
          "execution_count": 349
        }
      ]
    },
    {
      "cell_type": "markdown",
      "metadata": {
        "id": "B-H0-Fqeu0z5"
      },
      "source": [
        "# UFuncs Review\n",
        "\n",
        "- UFuncs provide efficient elementwise operations applied across one or more arrays.\n",
        "- Arithmetic Operators (`+`, `*`, `/`)\n",
        "- Comparisons (`==`, `>`, `!=`)\n",
        "- Boolean Operators (`&`, `|`, `^`)\n",
        "- Trigonometric Functions (`sin`, `cos`)\n",
        "- Transcendental Functions (`exp`, `log`)"
      ]
    },
    {
      "cell_type": "markdown",
      "metadata": {
        "id": "CfVoP9DRu0z6"
      },
      "source": [
        "# Selections"
      ]
    },
    {
      "cell_type": "markdown",
      "metadata": {
        "id": "nCteD0xeu0z6"
      },
      "source": [
        "We often want to perform an operation on just a subset of our data."
      ]
    },
    {
      "cell_type": "code",
      "execution_count": 350,
      "metadata": {
        "colab": {
          "base_uri": "https://localhost:8080/"
        },
        "id": "MOKIUBNsu0z6",
        "outputId": "d0693a9a-32d4-4f9a-9a76-ee26a129d6c0"
      },
      "outputs": [
        {
          "output_type": "execute_result",
          "data": {
            "text/plain": [
              "array([0.        , 0.34185385, 0.64251645, 0.86575984, 0.98468459,\n",
              "       0.98496101, 0.8665558 , 0.64373604, 0.34335012, 0.00159265])"
            ]
          },
          "metadata": {},
          "execution_count": 350
        }
      ],
      "source": [
        "sines = np.sin(np.linspace(0, 3.14, 10))\n",
        "cosines = np.cos(np.linspace(0, 3.14, 10))\n",
        "sines"
      ]
    },
    {
      "cell_type": "markdown",
      "source": [
        "#My example 33\n"
      ],
      "metadata": {
        "id": "HxJxmFZ3HV68"
      }
    },
    {
      "cell_type": "code",
      "source": [
        "senos = np.sin(np.linspace(1, 8.59, 54))\n",
        "cosenos = np.cos(np.linspace(85, 7.15 , 12))\n",
        "senos"
      ],
      "metadata": {
        "colab": {
          "base_uri": "https://localhost:8080/"
        },
        "id": "HhMek4L23-e3",
        "outputId": "eec15a9c-cbd0-42b6-fb7f-f0a995177f3c"
      },
      "execution_count": 351,
      "outputs": [
        {
          "output_type": "execute_result",
          "data": {
            "text/plain": [
              "array([ 0.84147098,  0.90996827,  0.95983544,  0.99005153,  0.99999793,\n",
              "        0.989471  ,  0.95868625,  0.90827395,  0.83926623,  0.75307589,\n",
              "        0.65146754,  0.53652146,  0.41059097,  0.27625429,  0.13626176,\n",
              "       -0.00652051, -0.14916928, -0.28876406, -0.42244686, -0.54748074,\n",
              "       -0.66130585, -0.76159179, -0.84628538, -0.91365265, -0.96231437,\n",
              "       -0.99127426, -0.99993942, -0.98813245, -0.95609507, -0.90448319,\n",
              "       -0.83435349, -0.74714176, -0.64463351, -0.52892744, -0.40239244,\n",
              "       -0.26761911, -0.12736671,  0.01549332,  0.15803614,  0.29734344,\n",
              "        0.4305631 ,  0.55496769,  0.66801022,  0.76737632,  0.85103163,\n",
              "        0.91726346,  0.96471581,  0.99241717,  0.99980039,  0.98671433,\n",
              "        0.9534269 ,  0.90061959,  0.82937357,  0.74114747])"
            ]
          },
          "metadata": {},
          "execution_count": 351
        }
      ]
    },
    {
      "cell_type": "code",
      "execution_count": 352,
      "metadata": {
        "colab": {
          "base_uri": "https://localhost:8080/"
        },
        "id": "gXZqiS-ku0z6",
        "outputId": "8f4f9ce3-6b14-4311-e1b4-884b7eeb7e6e"
      },
      "outputs": [
        {
          "output_type": "execute_result",
          "data": {
            "text/plain": [
              "0.0"
            ]
          },
          "metadata": {},
          "execution_count": 352
        }
      ],
      "source": [
        "# Slicing works with the same semantics as Python lists.\n",
        "sines[0]"
      ]
    },
    {
      "cell_type": "markdown",
      "source": [
        "#My example 34\n"
      ],
      "metadata": {
        "id": "RWW-hdfMHaYU"
      }
    },
    {
      "cell_type": "code",
      "source": [
        "senos[0]"
      ],
      "metadata": {
        "colab": {
          "base_uri": "https://localhost:8080/"
        },
        "id": "FUbkiyHO4Jev",
        "outputId": "dc214b5d-049f-4ba8-9a22-168b1c7c145d"
      },
      "execution_count": 353,
      "outputs": [
        {
          "output_type": "execute_result",
          "data": {
            "text/plain": [
              "0.8414709848078965"
            ]
          },
          "metadata": {},
          "execution_count": 353
        }
      ]
    },
    {
      "cell_type": "code",
      "execution_count": 354,
      "metadata": {
        "colab": {
          "base_uri": "https://localhost:8080/"
        },
        "id": "fkHQVXjTu0z6",
        "outputId": "cf60128f-ae0c-4637-f2cd-d5fd126a2022"
      },
      "outputs": [
        {
          "output_type": "execute_result",
          "data": {
            "text/plain": [
              "array([0.        , 0.34185385, 0.64251645])"
            ]
          },
          "metadata": {},
          "execution_count": 354
        }
      ],
      "source": [
        "sines[:3]  # First three elements  "
      ]
    },
    {
      "cell_type": "markdown",
      "source": [
        "#My example 35\n"
      ],
      "metadata": {
        "id": "H_TnVsJwHbEo"
      }
    },
    {
      "cell_type": "code",
      "source": [
        "senos[:3]"
      ],
      "metadata": {
        "colab": {
          "base_uri": "https://localhost:8080/"
        },
        "id": "jsYqQ92k4ObY",
        "outputId": "88ef1cd1-8d0c-4ef0-9c12-8c5d8db51ee4"
      },
      "execution_count": 355,
      "outputs": [
        {
          "output_type": "execute_result",
          "data": {
            "text/plain": [
              "array([0.84147098, 0.90996827, 0.95983544])"
            ]
          },
          "metadata": {},
          "execution_count": 355
        }
      ]
    },
    {
      "cell_type": "code",
      "execution_count": 356,
      "metadata": {
        "colab": {
          "base_uri": "https://localhost:8080/"
        },
        "id": "R2trqTFMu0z7",
        "outputId": "9875d5a2-6497-4676-d187-b388703301ea"
      },
      "outputs": [
        {
          "output_type": "execute_result",
          "data": {
            "text/plain": [
              "array([0.98496101, 0.8665558 , 0.64373604, 0.34335012, 0.00159265])"
            ]
          },
          "metadata": {},
          "execution_count": 356
        }
      ],
      "source": [
        "sines[5:]  # Elements from 5 on."
      ]
    },
    {
      "cell_type": "markdown",
      "source": [
        "#My example 36\n"
      ],
      "metadata": {
        "id": "wUGWXzCUHbtP"
      }
    },
    {
      "cell_type": "code",
      "source": [
        "senos[5:]"
      ],
      "metadata": {
        "colab": {
          "base_uri": "https://localhost:8080/"
        },
        "id": "QAIPefI64R-P",
        "outputId": "be9dd921-c1ef-415f-b9f4-9e9b8277d4d0"
      },
      "execution_count": 357,
      "outputs": [
        {
          "output_type": "execute_result",
          "data": {
            "text/plain": [
              "array([ 0.989471  ,  0.95868625,  0.90827395,  0.83926623,  0.75307589,\n",
              "        0.65146754,  0.53652146,  0.41059097,  0.27625429,  0.13626176,\n",
              "       -0.00652051, -0.14916928, -0.28876406, -0.42244686, -0.54748074,\n",
              "       -0.66130585, -0.76159179, -0.84628538, -0.91365265, -0.96231437,\n",
              "       -0.99127426, -0.99993942, -0.98813245, -0.95609507, -0.90448319,\n",
              "       -0.83435349, -0.74714176, -0.64463351, -0.52892744, -0.40239244,\n",
              "       -0.26761911, -0.12736671,  0.01549332,  0.15803614,  0.29734344,\n",
              "        0.4305631 ,  0.55496769,  0.66801022,  0.76737632,  0.85103163,\n",
              "        0.91726346,  0.96471581,  0.99241717,  0.99980039,  0.98671433,\n",
              "        0.9534269 ,  0.90061959,  0.82937357,  0.74114747])"
            ]
          },
          "metadata": {},
          "execution_count": 357
        }
      ]
    },
    {
      "cell_type": "code",
      "execution_count": 358,
      "metadata": {
        "colab": {
          "base_uri": "https://localhost:8080/"
        },
        "id": "vqZ_bO9_u0z7",
        "outputId": "deb2e1ab-afbc-49f8-a0ff-b38c4b8f030c"
      },
      "outputs": [
        {
          "output_type": "execute_result",
          "data": {
            "text/plain": [
              "array([0.        , 0.64251645, 0.98468459, 0.8665558 , 0.34335012])"
            ]
          },
          "metadata": {},
          "execution_count": 358
        }
      ],
      "source": [
        "sines[::2]  # Every other element."
      ]
    },
    {
      "cell_type": "markdown",
      "source": [
        "#My example 37\n"
      ],
      "metadata": {
        "id": "fe3OAAmbHctK"
      }
    },
    {
      "cell_type": "code",
      "source": [
        "senos[::2]"
      ],
      "metadata": {
        "colab": {
          "base_uri": "https://localhost:8080/"
        },
        "id": "r54OugWx4U4n",
        "outputId": "694e10b7-8bab-4aa0-b788-415ca4b12342"
      },
      "execution_count": 359,
      "outputs": [
        {
          "output_type": "execute_result",
          "data": {
            "text/plain": [
              "array([ 0.84147098,  0.95983544,  0.99999793,  0.95868625,  0.83926623,\n",
              "        0.65146754,  0.41059097,  0.13626176, -0.14916928, -0.42244686,\n",
              "       -0.66130585, -0.84628538, -0.96231437, -0.99993942, -0.95609507,\n",
              "       -0.83435349, -0.64463351, -0.40239244, -0.12736671,  0.15803614,\n",
              "        0.4305631 ,  0.66801022,  0.85103163,  0.96471581,  0.99980039,\n",
              "        0.9534269 ,  0.82937357])"
            ]
          },
          "metadata": {},
          "execution_count": 359
        }
      ]
    },
    {
      "cell_type": "code",
      "execution_count": 360,
      "metadata": {
        "colab": {
          "base_uri": "https://localhost:8080/"
        },
        "id": "49PIqvoeu0z7",
        "outputId": "049f0db6-b71c-464d-83ab-1be6518203f4"
      },
      "outputs": [
        {
          "output_type": "stream",
          "name": "stdout",
          "text": [
            "sines:\n",
            " [0.         0.34185385 0.64251645 0.86575984 0.98468459 0.98496101\n",
            " 0.8665558  0.64373604 0.34335012 0.00159265]\n",
            "sines > 0.5:\n",
            " [False False  True  True  True  True  True  True False False]\n",
            "sines[sines > 0.5]:\n",
            " [0.64251645 0.86575984 0.98468459 0.98496101 0.8665558  0.64373604]\n"
          ]
        }
      ],
      "source": [
        "# More interesting: we can index with boolean arrays to filter by a predicate.\n",
        "print(\"sines:\\n\", sines)\n",
        "print(\"sines > 0.5:\\n\", sines > 0.5)\n",
        "print(\"sines[sines > 0.5]:\\n\", sines[sines > 0.5])"
      ]
    },
    {
      "cell_type": "markdown",
      "source": [
        "#My example 38\n"
      ],
      "metadata": {
        "id": "m4wfVBvoHdae"
      }
    },
    {
      "cell_type": "code",
      "source": [
        "print(\"sines:\\n\", senos)\n",
        "print(\"sines > 0.5:\\n\", senos > 0.5)\n",
        "print(\"sines[sines > 0.5]:\\n\", senos[senos > 0.5])\n"
      ],
      "metadata": {
        "colab": {
          "base_uri": "https://localhost:8080/"
        },
        "id": "gr3BjxF54YNH",
        "outputId": "9f1635b1-b637-4b20-931e-32717d925edf"
      },
      "execution_count": 361,
      "outputs": [
        {
          "output_type": "stream",
          "name": "stdout",
          "text": [
            "sines:\n",
            " [ 0.84147098  0.90996827  0.95983544  0.99005153  0.99999793  0.989471\n",
            "  0.95868625  0.90827395  0.83926623  0.75307589  0.65146754  0.53652146\n",
            "  0.41059097  0.27625429  0.13626176 -0.00652051 -0.14916928 -0.28876406\n",
            " -0.42244686 -0.54748074 -0.66130585 -0.76159179 -0.84628538 -0.91365265\n",
            " -0.96231437 -0.99127426 -0.99993942 -0.98813245 -0.95609507 -0.90448319\n",
            " -0.83435349 -0.74714176 -0.64463351 -0.52892744 -0.40239244 -0.26761911\n",
            " -0.12736671  0.01549332  0.15803614  0.29734344  0.4305631   0.55496769\n",
            "  0.66801022  0.76737632  0.85103163  0.91726346  0.96471581  0.99241717\n",
            "  0.99980039  0.98671433  0.9534269   0.90061959  0.82937357  0.74114747]\n",
            "sines > 0.5:\n",
            " [ True  True  True  True  True  True  True  True  True  True  True  True\n",
            " False False False False False False False False False False False False\n",
            " False False False False False False False False False False False False\n",
            " False False False False False  True  True  True  True  True  True  True\n",
            "  True  True  True  True  True  True]\n",
            "sines[sines > 0.5]:\n",
            " [0.84147098 0.90996827 0.95983544 0.99005153 0.99999793 0.989471\n",
            " 0.95868625 0.90827395 0.83926623 0.75307589 0.65146754 0.53652146\n",
            " 0.55496769 0.66801022 0.76737632 0.85103163 0.91726346 0.96471581\n",
            " 0.99241717 0.99980039 0.98671433 0.9534269  0.90061959 0.82937357\n",
            " 0.74114747]\n"
          ]
        }
      ]
    },
    {
      "cell_type": "code",
      "execution_count": 362,
      "metadata": {
        "colab": {
          "base_uri": "https://localhost:8080/"
        },
        "id": "JkdVgOWyu0z7",
        "outputId": "545533bc-2815-47b2-98d8-28275dd06914"
      },
      "outputs": [
        {
          "output_type": "stream",
          "name": "stdout",
          "text": [
            "[0.         0.34185385 0.64251645 0.86575984 0.98468459 0.98496101\n",
            " 0.8665558  0.64373604 0.34335012 0.00159265]\n"
          ]
        },
        {
          "output_type": "execute_result",
          "data": {
            "text/plain": [
              "array([0.        , 0.98468459, 0.64373604])"
            ]
          },
          "metadata": {},
          "execution_count": 362
        }
      ],
      "source": [
        "# We index with lists/arrays of integers to select values at those indices.\n",
        "print(sines)\n",
        "sines[[0, 4, 7]]"
      ]
    },
    {
      "cell_type": "markdown",
      "source": [
        "#My example 39\n"
      ],
      "metadata": {
        "id": "EL2jihcwHeqQ"
      }
    },
    {
      "cell_type": "code",
      "source": [
        "print(senos)\n",
        "senos[[0, 3, 9]]"
      ],
      "metadata": {
        "colab": {
          "base_uri": "https://localhost:8080/"
        },
        "id": "bil7_eBP4iqH",
        "outputId": "47fea1fd-268c-494a-ffdf-6c2425db1887"
      },
      "execution_count": 363,
      "outputs": [
        {
          "output_type": "stream",
          "name": "stdout",
          "text": [
            "[ 0.84147098  0.90996827  0.95983544  0.99005153  0.99999793  0.989471\n",
            "  0.95868625  0.90827395  0.83926623  0.75307589  0.65146754  0.53652146\n",
            "  0.41059097  0.27625429  0.13626176 -0.00652051 -0.14916928 -0.28876406\n",
            " -0.42244686 -0.54748074 -0.66130585 -0.76159179 -0.84628538 -0.91365265\n",
            " -0.96231437 -0.99127426 -0.99993942 -0.98813245 -0.95609507 -0.90448319\n",
            " -0.83435349 -0.74714176 -0.64463351 -0.52892744 -0.40239244 -0.26761911\n",
            " -0.12736671  0.01549332  0.15803614  0.29734344  0.4305631   0.55496769\n",
            "  0.66801022  0.76737632  0.85103163  0.91726346  0.96471581  0.99241717\n",
            "  0.99980039  0.98671433  0.9534269   0.90061959  0.82937357  0.74114747]\n"
          ]
        },
        {
          "output_type": "execute_result",
          "data": {
            "text/plain": [
              "array([0.84147098, 0.99005153, 0.75307589])"
            ]
          },
          "metadata": {},
          "execution_count": 363
        }
      ]
    },
    {
      "cell_type": "code",
      "execution_count": 364,
      "metadata": {
        "collapsed": true,
        "id": "IaMlLZYEu0z8"
      },
      "outputs": [],
      "source": [
        "# Index arrays are often used for sorting one or more arrays.\n",
        "unsorted_data = np.array([1, 3, 2, 12, -1, 5, 2])"
      ]
    },
    {
      "cell_type": "markdown",
      "source": [
        "#My example 40\n"
      ],
      "metadata": {
        "id": "79635m8xHfkd"
      }
    },
    {
      "cell_type": "code",
      "source": [
        "unsorted_dato = np.array([619, 6197, 619, 7684, -798, 551, -224])"
      ],
      "metadata": {
        "id": "5w0TH4mt4ni_"
      },
      "execution_count": 365,
      "outputs": []
    },
    {
      "cell_type": "code",
      "execution_count": 366,
      "metadata": {
        "colab": {
          "base_uri": "https://localhost:8080/"
        },
        "id": "dlGW9Lxou0z8",
        "outputId": "d8b980c2-c36a-4ce1-e377-431480a07b93"
      },
      "outputs": [
        {
          "output_type": "execute_result",
          "data": {
            "text/plain": [
              "array([4, 0, 2, 6, 1, 5, 3])"
            ]
          },
          "metadata": {},
          "execution_count": 366
        }
      ],
      "source": [
        "sort_indices = np.argsort(unsorted_data)\n",
        "sort_indices"
      ]
    },
    {
      "cell_type": "markdown",
      "source": [
        "#My example 41\n"
      ],
      "metadata": {
        "id": "ZwyK4t4bHgbn"
      }
    },
    {
      "cell_type": "code",
      "source": [
        "sort_indice = np.argsort(unsorted_dato)\n",
        "sort_indice"
      ],
      "metadata": {
        "colab": {
          "base_uri": "https://localhost:8080/"
        },
        "id": "FHnf3pIN4tam",
        "outputId": "b1baf011-4f4b-4280-ef42-207c22a8ab3b"
      },
      "execution_count": 367,
      "outputs": [
        {
          "output_type": "execute_result",
          "data": {
            "text/plain": [
              "array([4, 6, 5, 0, 2, 1, 3])"
            ]
          },
          "metadata": {},
          "execution_count": 367
        }
      ]
    },
    {
      "cell_type": "code",
      "execution_count": 368,
      "metadata": {
        "colab": {
          "base_uri": "https://localhost:8080/"
        },
        "id": "gbgY2brfu0z8",
        "outputId": "0c52d8e8-0473-4462-8f51-c57c52dc8bd0"
      },
      "outputs": [
        {
          "output_type": "execute_result",
          "data": {
            "text/plain": [
              "array([-1,  1,  2,  2,  3,  5, 12])"
            ]
          },
          "metadata": {},
          "execution_count": 368
        }
      ],
      "source": [
        "unsorted_data[sort_indices]"
      ]
    },
    {
      "cell_type": "markdown",
      "source": [
        "#My example 42\n"
      ],
      "metadata": {
        "id": "CBMyJjMWHiBv"
      }
    },
    {
      "cell_type": "code",
      "source": [
        "unsorted_dato[sort_indice]"
      ],
      "metadata": {
        "colab": {
          "base_uri": "https://localhost:8080/"
        },
        "id": "CF8SKISu4x0N",
        "outputId": "4a582647-1336-48af-e41b-e915bf0dab0b"
      },
      "execution_count": 369,
      "outputs": [
        {
          "output_type": "execute_result",
          "data": {
            "text/plain": [
              "array([-798, -224,  551,  619,  619, 6197, 7684])"
            ]
          },
          "metadata": {},
          "execution_count": 369
        }
      ]
    },
    {
      "cell_type": "code",
      "execution_count": 370,
      "metadata": {
        "collapsed": true,
        "id": "rE1zZs_qu0z8"
      },
      "outputs": [],
      "source": [
        "market_caps = np.array([12, 6, 10, 5, 6])  # Presumably in dollars?\n",
        "assets = np.array(['A', 'B', 'C', 'D', 'E'])"
      ]
    },
    {
      "cell_type": "markdown",
      "source": [
        "#My example 43\n"
      ],
      "metadata": {
        "id": "_g9FfkEbHjZc"
      }
    },
    {
      "cell_type": "code",
      "source": [
        "market_capos = np.array([1122, 641, 1150, 523,116]) \n",
        "assets = np.array(['O', 'D', 'S', 'D', 'K'])"
      ],
      "metadata": {
        "id": "VEoxtsj442Wj"
      },
      "execution_count": 371,
      "outputs": []
    },
    {
      "cell_type": "code",
      "execution_count": 372,
      "metadata": {
        "colab": {
          "base_uri": "https://localhost:8080/"
        },
        "id": "LS7c9rmqu0z9",
        "outputId": "6eb5a077-0373-4053-ec39-90d5acac3588"
      },
      "outputs": [
        {
          "output_type": "execute_result",
          "data": {
            "text/plain": [
              "array(['D', 'D', 'K', 'S', 'O'], dtype='<U1')"
            ]
          },
          "metadata": {},
          "execution_count": 372
        }
      ],
      "source": [
        "# Sort assets by market cap by using the permutation that would sort market caps on ``assets``.\n",
        "sort_by_mcap = np.argsort(market_caps)\n",
        "assets[sort_by_mcap]"
      ]
    },
    {
      "cell_type": "markdown",
      "source": [
        "#My example 44\n"
      ],
      "metadata": {
        "id": "Q8dfX_15HkNr"
      }
    },
    {
      "cell_type": "code",
      "source": [
        "sort_by_mcapo = np.argsort(market_capos)\n",
        "assets[sort_by_mcapo]\n"
      ],
      "metadata": {
        "colab": {
          "base_uri": "https://localhost:8080/"
        },
        "id": "8LHi7p_G49Be",
        "outputId": "4494332a-618c-4210-e3d1-b39df6e52123"
      },
      "execution_count": 373,
      "outputs": [
        {
          "output_type": "execute_result",
          "data": {
            "text/plain": [
              "array(['K', 'D', 'D', 'O', 'S'], dtype='<U1')"
            ]
          },
          "metadata": {},
          "execution_count": 373
        }
      ]
    },
    {
      "cell_type": "markdown",
      "metadata": {
        "id": "YUZGQbssu0z9"
      },
      "source": [
        "On multi-dimensional arrays, we can slice along each axis independently."
      ]
    },
    {
      "cell_type": "code",
      "execution_count": 374,
      "metadata": {
        "colab": {
          "base_uri": "https://localhost:8080/"
        },
        "id": "mCvaPv6hu0z9",
        "outputId": "03ed1b0e-a96d-4d2d-bbac-d697374a5f29"
      },
      "outputs": [
        {
          "output_type": "execute_result",
          "data": {
            "text/plain": [
              "array([[ 0,  1,  2,  3,  4],\n",
              "       [ 5,  6,  7,  8,  9],\n",
              "       [10, 11, 12, 13, 14],\n",
              "       [15, 16, 17, 18, 19],\n",
              "       [20, 21, 22, 23, 24]])"
            ]
          },
          "metadata": {},
          "execution_count": 374
        }
      ],
      "source": [
        "data = np.arange(25).reshape(5, 5)\n",
        "data"
      ]
    },
    {
      "cell_type": "markdown",
      "source": [
        "#My example 45\n"
      ],
      "metadata": {
        "id": "5fF5eq0PHlXf"
      }
    },
    {
      "cell_type": "code",
      "source": [
        "dato = np.arange(16).reshape(4, 4)\n",
        "dato"
      ],
      "metadata": {
        "colab": {
          "base_uri": "https://localhost:8080/"
        },
        "id": "eqh3psOw5L3B",
        "outputId": "9e180a30-555b-452a-bf61-c4795362c617"
      },
      "execution_count": 375,
      "outputs": [
        {
          "output_type": "execute_result",
          "data": {
            "text/plain": [
              "array([[ 0,  1,  2,  3],\n",
              "       [ 4,  5,  6,  7],\n",
              "       [ 8,  9, 10, 11],\n",
              "       [12, 13, 14, 15]])"
            ]
          },
          "metadata": {},
          "execution_count": 375
        }
      ]
    },
    {
      "cell_type": "code",
      "execution_count": 376,
      "metadata": {
        "colab": {
          "base_uri": "https://localhost:8080/"
        },
        "id": "g6vvEsHxu0z-",
        "outputId": "afb50ce5-5198-40f1-90ed-9969d69ea118"
      },
      "outputs": [
        {
          "output_type": "execute_result",
          "data": {
            "text/plain": [
              "array([[0, 1],\n",
              "       [5, 6]])"
            ]
          },
          "metadata": {},
          "execution_count": 376
        }
      ],
      "source": [
        "data[:2, :2]  # First two rows and first two columns."
      ]
    },
    {
      "cell_type": "markdown",
      "source": [
        "#My example 46\n"
      ],
      "metadata": {
        "id": "GCm5S_GmHoFW"
      }
    },
    {
      "cell_type": "code",
      "source": [
        "dato[:2, :2]"
      ],
      "metadata": {
        "colab": {
          "base_uri": "https://localhost:8080/"
        },
        "id": "iO_NvM1n5UM-",
        "outputId": "50f19907-f4ed-41e2-aa28-d1cb78f98a82"
      },
      "execution_count": 377,
      "outputs": [
        {
          "output_type": "execute_result",
          "data": {
            "text/plain": [
              "array([[0, 1],\n",
              "       [4, 5]])"
            ]
          },
          "metadata": {},
          "execution_count": 377
        }
      ]
    },
    {
      "cell_type": "code",
      "execution_count": 378,
      "metadata": {
        "colab": {
          "base_uri": "https://localhost:8080/"
        },
        "id": "SkPoZEQzu0z-",
        "outputId": "132c56ce-5cde-4db9-b288-7ba8d9ec277c"
      },
      "outputs": [
        {
          "output_type": "execute_result",
          "data": {
            "text/plain": [
              "array([[0, 4],\n",
              "       [5, 9]])"
            ]
          },
          "metadata": {},
          "execution_count": 378
        }
      ],
      "source": [
        "data[:2, [0, -1]]  # First two rows, first and last columns."
      ]
    },
    {
      "cell_type": "markdown",
      "source": [
        "#My example 47\n"
      ],
      "metadata": {
        "id": "V2Z-UUN6HpPu"
      }
    },
    {
      "cell_type": "code",
      "source": [
        "dato[:2, [0, -1]]"
      ],
      "metadata": {
        "colab": {
          "base_uri": "https://localhost:8080/"
        },
        "id": "jZ3GijeV5XYW",
        "outputId": "8c8accc1-5cf7-4ae9-9c3d-60854e4c02a9"
      },
      "execution_count": 379,
      "outputs": [
        {
          "output_type": "execute_result",
          "data": {
            "text/plain": [
              "array([[0, 3],\n",
              "       [4, 7]])"
            ]
          },
          "metadata": {},
          "execution_count": 379
        }
      ]
    },
    {
      "cell_type": "code",
      "execution_count": 380,
      "metadata": {
        "colab": {
          "base_uri": "https://localhost:8080/"
        },
        "id": "gu_dB8zxu0z-",
        "outputId": "ab16cb37-fea9-4bba-bfaa-f344d7461673"
      },
      "outputs": [
        {
          "output_type": "execute_result",
          "data": {
            "text/plain": [
              "array([[ 0,  1,  2,  3,  4],\n",
              "       [10, 11, 12, 13, 14],\n",
              "       [20, 21, 22, 23, 24]])"
            ]
          },
          "metadata": {},
          "execution_count": 380
        }
      ],
      "source": [
        "data[(data[:, 0] % 2) == 0]  # Rows where the first column is divisible by two."
      ]
    },
    {
      "cell_type": "markdown",
      "source": [
        "#My example 48\n"
      ],
      "metadata": {
        "id": "a8SctdtDHqlc"
      }
    },
    {
      "cell_type": "code",
      "source": [
        "dato[(dato[:, 3] % 5) == 0]"
      ],
      "metadata": {
        "colab": {
          "base_uri": "https://localhost:8080/"
        },
        "id": "cuxzVzHm5aZG",
        "outputId": "e0d940f5-baf4-43c0-acc7-6045883e96db"
      },
      "execution_count": 381,
      "outputs": [
        {
          "output_type": "execute_result",
          "data": {
            "text/plain": [
              "array([[12, 13, 14, 15]])"
            ]
          },
          "metadata": {},
          "execution_count": 381
        }
      ]
    },
    {
      "cell_type": "markdown",
      "metadata": {
        "id": "fMaBGwZSu0z-"
      },
      "source": [
        "# Selections Review\n",
        "\n",
        "- Indexing with an integer removes a dimension.\n",
        "- Slicing operations work on Numpy arrays the same way they do on lists.\n",
        "- Indexing with a boolean array filters to True locations.\n",
        "- Indexing with an integer array selects indices along an axis.\n",
        "- Multidimensional arrays can apply selections independently along different axes."
      ]
    },
    {
      "cell_type": "markdown",
      "metadata": {
        "id": "A2zzmYu9u0z-"
      },
      "source": [
        "## Reductions\n",
        "\n",
        "Functions that reduce an array to a scalar."
      ]
    },
    {
      "cell_type": "markdown",
      "metadata": {
        "id": "4bySnq_ku0z_"
      },
      "source": [
        "$Var(X) = \\frac{1}{N}\\sqrt{\\sum_{i=1}^N (x_i - \\bar{x})^2}$"
      ]
    },
    {
      "cell_type": "code",
      "execution_count": 382,
      "metadata": {
        "collapsed": true,
        "id": "FySt1wY6u0z_"
      },
      "outputs": [],
      "source": [
        "def variance(x):\n",
        "    return ((x - x.mean()) ** 2).sum() / len(x)"
      ]
    },
    {
      "cell_type": "markdown",
      "source": [
        "#My example 49\n"
      ],
      "metadata": {
        "id": "iLDLj8-QHruq"
      }
    },
    {
      "cell_type": "code",
      "source": [
        "variance(np.random.standard_normal(2500))"
      ],
      "metadata": {
        "colab": {
          "base_uri": "https://localhost:8080/"
        },
        "id": "e7JngHD15o0U",
        "outputId": "af20be93-d1ee-47c1-970f-68488d938b91"
      },
      "execution_count": 383,
      "outputs": [
        {
          "output_type": "execute_result",
          "data": {
            "text/plain": [
              "1.0660221963907053"
            ]
          },
          "metadata": {},
          "execution_count": 383
        }
      ]
    },
    {
      "cell_type": "code",
      "execution_count": 384,
      "metadata": {
        "colab": {
          "base_uri": "https://localhost:8080/"
        },
        "id": "OGxk5PHlu0z_",
        "outputId": "471e7f3d-6849-4ef2-eafa-6c1eec476eff"
      },
      "outputs": [
        {
          "output_type": "execute_result",
          "data": {
            "text/plain": [
              "1.0623992460736253"
            ]
          },
          "metadata": {},
          "execution_count": 384
        }
      ],
      "source": [
        "variance(np.random.standard_normal(1000))"
      ]
    },
    {
      "cell_type": "markdown",
      "metadata": {
        "id": "UxefctVvu0z_"
      },
      "source": [
        "- `sum()` and `mean()` are both **reductions**."
      ]
    },
    {
      "cell_type": "markdown",
      "metadata": {
        "id": "kQW68tkBu0z_"
      },
      "source": [
        "- In the simplest case, we use these to reduce an entire array into a single value..."
      ]
    },
    {
      "cell_type": "code",
      "execution_count": 385,
      "metadata": {
        "colab": {
          "base_uri": "https://localhost:8080/"
        },
        "id": "Rk0b_M75u00A",
        "outputId": "54a21ac2-3823-4a4c-b274-5c43f6f70be9"
      },
      "outputs": [
        {
          "output_type": "execute_result",
          "data": {
            "text/plain": [
              "14.5"
            ]
          },
          "metadata": {},
          "execution_count": 385
        }
      ],
      "source": [
        "data = np.arange(30)\n",
        "data.mean()"
      ]
    },
    {
      "cell_type": "markdown",
      "source": [
        "#My example 50\n"
      ],
      "metadata": {
        "id": "tCGb8D8oHt6A"
      }
    },
    {
      "cell_type": "code",
      "source": [
        "dato = np.arange(280)\n",
        "dato.mean()"
      ],
      "metadata": {
        "colab": {
          "base_uri": "https://localhost:8080/"
        },
        "id": "YYNLn5Ne5uTO",
        "outputId": "472dbcf0-9780-41fa-ea4a-8be80088d1f2"
      },
      "execution_count": 386,
      "outputs": [
        {
          "output_type": "execute_result",
          "data": {
            "text/plain": [
              "139.5"
            ]
          },
          "metadata": {},
          "execution_count": 386
        }
      ]
    },
    {
      "cell_type": "markdown",
      "metadata": {
        "id": "wX4nn95Fu00A"
      },
      "source": [
        "- ...but we can do more interesting things with multi-dimensional arrays."
      ]
    },
    {
      "cell_type": "markdown",
      "source": [
        "#My example 51\n"
      ],
      "metadata": {
        "id": "aEf2vzRZHu4a"
      }
    },
    {
      "cell_type": "code",
      "source": [
        "dato = np.arange(60).reshape(4, 15)\n",
        "dato"
      ],
      "metadata": {
        "colab": {
          "base_uri": "https://localhost:8080/"
        },
        "id": "QScIKfaU51Kn",
        "outputId": "8fb6f726-3ae4-47cb-ff1d-eecba0e6418c"
      },
      "execution_count": 387,
      "outputs": [
        {
          "output_type": "execute_result",
          "data": {
            "text/plain": [
              "array([[ 0,  1,  2,  3,  4,  5,  6,  7,  8,  9, 10, 11, 12, 13, 14],\n",
              "       [15, 16, 17, 18, 19, 20, 21, 22, 23, 24, 25, 26, 27, 28, 29],\n",
              "       [30, 31, 32, 33, 34, 35, 36, 37, 38, 39, 40, 41, 42, 43, 44],\n",
              "       [45, 46, 47, 48, 49, 50, 51, 52, 53, 54, 55, 56, 57, 58, 59]])"
            ]
          },
          "metadata": {},
          "execution_count": 387
        }
      ]
    },
    {
      "cell_type": "code",
      "execution_count": 388,
      "metadata": {
        "colab": {
          "base_uri": "https://localhost:8080/"
        },
        "id": "LdbTkf4qu00A",
        "outputId": "e0f4f4a9-a152-48a6-ad58-66a1dbc3823b"
      },
      "outputs": [
        {
          "output_type": "execute_result",
          "data": {
            "text/plain": [
              "14.5"
            ]
          },
          "metadata": {},
          "execution_count": 388
        }
      ],
      "source": [
        "data.mean()"
      ]
    },
    {
      "cell_type": "markdown",
      "source": [
        "#My example 52\n"
      ],
      "metadata": {
        "id": "kpOjbrTqHv4V"
      }
    },
    {
      "cell_type": "code",
      "source": [
        "dato.mean()\n"
      ],
      "metadata": {
        "colab": {
          "base_uri": "https://localhost:8080/"
        },
        "id": "-rzAtKuo57TD",
        "outputId": "7ee51ba0-a723-4511-ba5f-cb42b4e44637"
      },
      "execution_count": 389,
      "outputs": [
        {
          "output_type": "execute_result",
          "data": {
            "text/plain": [
              "29.5"
            ]
          },
          "metadata": {},
          "execution_count": 389
        }
      ]
    },
    {
      "cell_type": "code",
      "execution_count": 390,
      "metadata": {
        "colab": {
          "base_uri": "https://localhost:8080/"
        },
        "id": "aRMFfpgSu00A",
        "outputId": "dfb2af5f-fa42-4762-94e8-e2af6eec43fe"
      },
      "outputs": [
        {
          "output_type": "execute_result",
          "data": {
            "text/plain": [
              "14.5"
            ]
          },
          "metadata": {},
          "execution_count": 390
        }
      ],
      "source": [
        "data.mean(axis=0)"
      ]
    },
    {
      "cell_type": "markdown",
      "source": [
        "#My example 53\n"
      ],
      "metadata": {
        "id": "3WyU1wjOHxHP"
      }
    },
    {
      "cell_type": "code",
      "source": [
        "dato.mean(axis=0)"
      ],
      "metadata": {
        "colab": {
          "base_uri": "https://localhost:8080/"
        },
        "id": "hXjDCt1S5-7f",
        "outputId": "8ac36402-64a2-4012-e6ac-7ff27b17e853"
      },
      "execution_count": 391,
      "outputs": [
        {
          "output_type": "execute_result",
          "data": {
            "text/plain": [
              "array([22.5, 23.5, 24.5, 25.5, 26.5, 27.5, 28.5, 29.5, 30.5, 31.5, 32.5,\n",
              "       33.5, 34.5, 35.5, 36.5])"
            ]
          },
          "metadata": {},
          "execution_count": 391
        }
      ]
    },
    {
      "cell_type": "markdown",
      "source": [
        "#My example 54\n"
      ],
      "metadata": {
        "id": "SG_bTDoGHx3h"
      }
    },
    {
      "cell_type": "code",
      "source": [
        "dato.mean(axis=1)"
      ],
      "metadata": {
        "colab": {
          "base_uri": "https://localhost:8080/"
        },
        "id": "O2ZWmTAJ6Bdu",
        "outputId": "b645a808-cfed-4ba5-cdfe-81afe9f88bb3"
      },
      "execution_count": 394,
      "outputs": [
        {
          "output_type": "execute_result",
          "data": {
            "text/plain": [
              "array([ 7., 22., 37., 52.])"
            ]
          },
          "metadata": {},
          "execution_count": 394
        }
      ]
    },
    {
      "cell_type": "markdown",
      "metadata": {
        "id": "iGfN_AA-u00B"
      },
      "source": [
        "## Reductions Review\n",
        "\n",
        "- Reductions allow us to perform efficient aggregations over arrays.\n",
        "- We can do aggregations over a single axis to collapse a single dimension.\n",
        "- Many built-in reductions (`mean`, `sum`, `min`, `max`, `median`, ...)."
      ]
    },
    {
      "cell_type": "markdown",
      "metadata": {
        "id": "O76egV2xu00B"
      },
      "source": [
        "# Broadcasting"
      ]
    },
    {
      "cell_type": "code",
      "execution_count": 395,
      "metadata": {
        "colab": {
          "base_uri": "https://localhost:8080/"
        },
        "id": "Jsi2niQgu00B",
        "outputId": "bf60fe2b-fcfd-4524-dd6f-68c6aa30189c"
      },
      "outputs": [
        {
          "output_type": "stream",
          "name": "stdout",
          "text": [
            "Row:\n",
            "[1 2 3 4]\n",
            "Column:\n",
            "[[1]\n",
            " [2]\n",
            " [3]]\n"
          ]
        }
      ],
      "source": [
        "row = np.array([1, 2, 3, 4])\n",
        "column = np.array([[1], [2], [3]])\n",
        "print(\"Row:\\n\", row, sep='')\n",
        "print(\"Column:\\n\", column, sep='')"
      ]
    },
    {
      "cell_type": "markdown",
      "source": [
        "#My example 55\n"
      ],
      "metadata": {
        "id": "0hccRvayHzdy"
      }
    },
    {
      "cell_type": "code",
      "source": [
        "fila = np.array([8, 349, 82353, 54])\n",
        "columna = np.array([[715], [619], [316]])\n",
        "print(\"fila:\\n\", fila, sep='')\n",
        "print(\"columna:\\n\", columna, sep='')"
      ],
      "metadata": {
        "colab": {
          "base_uri": "https://localhost:8080/"
        },
        "id": "WIfyZO6c6GF-",
        "outputId": "dcc72383-7ab3-4203-d4e7-8725635606be"
      },
      "execution_count": 396,
      "outputs": [
        {
          "output_type": "stream",
          "name": "stdout",
          "text": [
            "fila:\n",
            "[    8   349 82353    54]\n",
            "columna:\n",
            "[[715]\n",
            " [619]\n",
            " [316]]\n"
          ]
        }
      ]
    },
    {
      "cell_type": "code",
      "execution_count": 397,
      "metadata": {
        "colab": {
          "base_uri": "https://localhost:8080/"
        },
        "id": "FBVbYGbMu00B",
        "outputId": "d453feee-8570-455c-e367-fe61dbd5f016"
      },
      "outputs": [
        {
          "output_type": "execute_result",
          "data": {
            "text/plain": [
              "array([[2, 3, 4, 5],\n",
              "       [3, 4, 5, 6],\n",
              "       [4, 5, 6, 7]])"
            ]
          },
          "metadata": {},
          "execution_count": 397
        }
      ],
      "source": [
        "row + column"
      ]
    },
    {
      "cell_type": "markdown",
      "source": [
        "#My example 56\n"
      ],
      "metadata": {
        "id": "KXrpslYZH0R_"
      }
    },
    {
      "cell_type": "code",
      "source": [
        "fila + columna"
      ],
      "metadata": {
        "colab": {
          "base_uri": "https://localhost:8080/"
        },
        "id": "on_BJS7c6SIq",
        "outputId": "47cb5600-f8d6-41e6-f4ea-21a75f6b842a"
      },
      "execution_count": 398,
      "outputs": [
        {
          "output_type": "execute_result",
          "data": {
            "text/plain": [
              "array([[  723,  1064, 83068,   769],\n",
              "       [  627,   968, 82972,   673],\n",
              "       [  324,   665, 82669,   370]])"
            ]
          },
          "metadata": {},
          "execution_count": 398
        }
      ]
    },
    {
      "cell_type": "markdown",
      "metadata": {
        "id": "__oSh8Jru00B"
      },
      "source": [
        "<center><img src=\"images/broadcasting.png\" alt=\"Drawing\" style=\"width: 60%;\"/></center>\n",
        "\n",
        "<h5>Source: http://www.scipy-lectures.org/_images/numpy_broadcasting.png</h5>"
      ]
    },
    {
      "cell_type": "code",
      "execution_count": 399,
      "metadata": {
        "colab": {
          "base_uri": "https://localhost:8080/"
        },
        "id": "8KYcoLnMu00C",
        "outputId": "f88712cd-14d8-4ec9-e054-6e3e18e7dff0"
      },
      "outputs": [
        {
          "output_type": "stream",
          "name": "stdout",
          "text": [
            "Data:\n",
            "[ 0  1  2  3  4  5  6  7  8  9 10 11 12 13 14 15 16 17 18 19 20 21 22 23\n",
            " 24 25 26 27 28 29]\n",
            "Mean:\n",
            "14.5\n",
            "Data - Mean:\n",
            "[-14.5 -13.5 -12.5 -11.5 -10.5  -9.5  -8.5  -7.5  -6.5  -5.5  -4.5  -3.5\n",
            "  -2.5  -1.5  -0.5   0.5   1.5   2.5   3.5   4.5   5.5   6.5   7.5   8.5\n",
            "   9.5  10.5  11.5  12.5  13.5  14.5]\n"
          ]
        }
      ],
      "source": [
        "# Broadcasting is particularly useful in conjunction with reductions.\n",
        "print(\"Data:\\n\", data, sep='')\n",
        "print(\"Mean:\\n\", data.mean(axis=0), sep='')\n",
        "print(\"Data - Mean:\\n\", data - data.mean(axis=0), sep='')"
      ]
    },
    {
      "cell_type": "markdown",
      "source": [
        "#My example 57\n"
      ],
      "metadata": {
        "id": "KzuJ99mtH9CH"
      }
    },
    {
      "cell_type": "code",
      "source": [
        "print(\"Data:\\n\", dato, sep='')\n",
        "print(\"Mean:\\n\", dato.mean(axis=0), sep='')\n",
        "print(\"Data - Mean:\\n\", dato - dato.mean(axis=0), sep='')"
      ],
      "metadata": {
        "colab": {
          "base_uri": "https://localhost:8080/"
        },
        "id": "GHc4VNMT6Wbq",
        "outputId": "91483dbb-e90a-4049-c36e-d0512810e9e9"
      },
      "execution_count": 400,
      "outputs": [
        {
          "output_type": "stream",
          "name": "stdout",
          "text": [
            "Data:\n",
            "[[ 0  1  2  3  4  5  6  7  8  9 10 11 12 13 14]\n",
            " [15 16 17 18 19 20 21 22 23 24 25 26 27 28 29]\n",
            " [30 31 32 33 34 35 36 37 38 39 40 41 42 43 44]\n",
            " [45 46 47 48 49 50 51 52 53 54 55 56 57 58 59]]\n",
            "Mean:\n",
            "[22.5 23.5 24.5 25.5 26.5 27.5 28.5 29.5 30.5 31.5 32.5 33.5 34.5 35.5\n",
            " 36.5]\n",
            "Data - Mean:\n",
            "[[-22.5 -22.5 -22.5 -22.5 -22.5 -22.5 -22.5 -22.5 -22.5 -22.5 -22.5 -22.5\n",
            "  -22.5 -22.5 -22.5]\n",
            " [ -7.5  -7.5  -7.5  -7.5  -7.5  -7.5  -7.5  -7.5  -7.5  -7.5  -7.5  -7.5\n",
            "   -7.5  -7.5  -7.5]\n",
            " [  7.5   7.5   7.5   7.5   7.5   7.5   7.5   7.5   7.5   7.5   7.5   7.5\n",
            "    7.5   7.5   7.5]\n",
            " [ 22.5  22.5  22.5  22.5  22.5  22.5  22.5  22.5  22.5  22.5  22.5  22.5\n",
            "   22.5  22.5  22.5]]\n"
          ]
        }
      ]
    },
    {
      "cell_type": "markdown",
      "metadata": {
        "id": "j4FOCHLZu00C"
      },
      "source": [
        "# Broadcasting Review\n",
        "\n",
        "- Numpy operations can work on arrays of different dimensions as long as the arrays' shapes are still \"compatible\".\n",
        "- Broadcasting works by \"tiling\" the smaller array along the missing dimension.\n",
        "- The result of a broadcasted operation is always at least as large in each dimension as the largest array in that dimension."
      ]
    },
    {
      "cell_type": "markdown",
      "metadata": {
        "id": "Rjd7m9oXu00C"
      },
      "source": [
        "# Numpy Review"
      ]
    },
    {
      "cell_type": "markdown",
      "metadata": {
        "id": "otWyWllMu00C"
      },
      "source": [
        "- Numerical algorithms are slow in pure Python because the overhead dynamic dispatch dominates our runtime."
      ]
    },
    {
      "cell_type": "markdown",
      "metadata": {
        "id": "6mVNR2l_u00C"
      },
      "source": [
        "- Numpy solves this problem by:\n",
        "  1. Imposing additional restrictions on the contents of arrays.\n",
        "  2. Moving the inner loops of our algorithms into compiled C code."
      ]
    },
    {
      "cell_type": "markdown",
      "metadata": {
        "id": "ZhCQScMbu00C"
      },
      "source": [
        "- Using Numpy effectively often requires reworking an algorithms to use vectorized operations instead of for-loops, but the resulting operations are usually simpler, clearer, and faster than the pure Python equivalent."
      ]
    },
    {
      "cell_type": "markdown",
      "metadata": {
        "id": "_X7or-1Ku00D"
      },
      "source": [
        "<center><img src=\"images/unicorn.jpg\" alt=\"Drawing\" style=\"width: 75%;\"/></center>"
      ]
    },
    {
      "cell_type": "markdown",
      "metadata": {
        "id": "35v2e1Jxu00D"
      },
      "source": [
        "Numpy is great for many things, but..."
      ]
    },
    {
      "cell_type": "markdown",
      "metadata": {
        "id": "-6yOx9HRu00D"
      },
      "source": [
        "- Sometimes our data is equipped with a natural set of **labels**:\n",
        "  - Dates/Times\n",
        "  - Stock Tickers\n",
        "  - Field Names (e.g. Open/High/Low/Close)"
      ]
    },
    {
      "cell_type": "markdown",
      "metadata": {
        "id": "GlQoG8pQu00D"
      },
      "source": [
        "- Sometimes we have **more than one type of data** that we want to keep grouped together.\n",
        "  - Tables with a mix of real-valued and categorical data."
      ]
    },
    {
      "cell_type": "markdown",
      "metadata": {
        "id": "ORW4r8Ygu00D"
      },
      "source": [
        "- Sometimes we have **missing** data, which we need to ignore, fill, or otherwise work around."
      ]
    },
    {
      "cell_type": "markdown",
      "metadata": {
        "id": "Q4KFiW3yu00D"
      },
      "source": [
        "<center><img src=\"images/panda-wrangling.gif\" alt=\"Drawing\" style=\"width: 75%;\"/></center>"
      ]
    },
    {
      "cell_type": "markdown",
      "metadata": {
        "id": "x2hBNkZ_u00E"
      },
      "source": [
        "<center><img src=\"images/pandas_logo.png\" alt=\"Drawing\" style=\"width: 75%;\"/></center>\n"
      ]
    },
    {
      "cell_type": "markdown",
      "metadata": {
        "id": "g_AX0wzqu00E"
      },
      "source": [
        "Pandas extends Numpy with more complex data structures:\n",
        "\n",
        "- `Series`: 1-dimensional, homogenously-typed, labelled array.\n",
        "- `DataFrame`: 2-dimensional, semi-homogenous, labelled table."
      ]
    },
    {
      "cell_type": "markdown",
      "metadata": {
        "id": "IyaVZz8Fu00E"
      },
      "source": [
        "Pandas also provides many utilities for: \n",
        "- Input/Output\n",
        "- Data Cleaning\n",
        "- Rolling Algorithms\n",
        "- Plotting"
      ]
    },
    {
      "cell_type": "markdown",
      "metadata": {
        "id": "s_UQT7S8u00E"
      },
      "source": [
        "# Selection in Pandas"
      ]
    },
    {
      "cell_type": "code",
      "execution_count": 401,
      "metadata": {
        "colab": {
          "base_uri": "https://localhost:8080/"
        },
        "id": "TV6xwUtju00E",
        "outputId": "839c76b0-fd5c-4e1e-9760-bdf130d676ac"
      },
      "outputs": [
        {
          "output_type": "execute_result",
          "data": {
            "text/plain": [
              "a    1\n",
              "b    2\n",
              "c    3\n",
              "d    4\n",
              "e    5\n",
              "dtype: int64"
            ]
          },
          "metadata": {},
          "execution_count": 401
        }
      ],
      "source": [
        "s = pd.Series(index=['a', 'b', 'c', 'd', 'e'], data=[1, 2, 3, 4, 5])\n",
        "s"
      ]
    },
    {
      "cell_type": "markdown",
      "source": [
        "#My example 58\n"
      ],
      "metadata": {
        "id": "QsRry-h7H-_H"
      }
    },
    {
      "cell_type": "code",
      "source": [
        "Y = pd.Series(index=['O', 'D', 'S', 'N', 'M'], data=[121, 4232, 64, 2154, 715])\n",
        "Y "
      ],
      "metadata": {
        "colab": {
          "base_uri": "https://localhost:8080/"
        },
        "id": "ULBoCv826xD1",
        "outputId": "05d21bed-0b43-4209-c718-ad66824b87fe"
      },
      "execution_count": 402,
      "outputs": [
        {
          "output_type": "execute_result",
          "data": {
            "text/plain": [
              "O     121\n",
              "D    4232\n",
              "S      64\n",
              "N    2154\n",
              "M     715\n",
              "dtype: int64"
            ]
          },
          "metadata": {},
          "execution_count": 402
        }
      ]
    },
    {
      "cell_type": "code",
      "execution_count": 403,
      "metadata": {
        "colab": {
          "base_uri": "https://localhost:8080/"
        },
        "id": "AYPLGN0Du00E",
        "outputId": "938ddf8a-8565-4f72-9ccb-0f83b9f4e011"
      },
      "outputs": [
        {
          "output_type": "stream",
          "name": "stdout",
          "text": [
            "The index is: Index(['a', 'b', 'c', 'd', 'e'], dtype='object')\n",
            "The values are: [1 2 3 4 5]\n"
          ]
        }
      ],
      "source": [
        "# There are two pieces to a Series: the index and the values.\n",
        "print(\"The index is:\", s.index)\n",
        "print(\"The values are:\", s.values)"
      ]
    },
    {
      "cell_type": "markdown",
      "source": [
        "#My example 59\n"
      ],
      "metadata": {
        "id": "lOI6cntnIA2l"
      }
    },
    {
      "cell_type": "code",
      "source": [
        "print(\"The index is:\", Y.index)\n",
        "print(\"The values are:\", Y.values)"
      ],
      "metadata": {
        "colab": {
          "base_uri": "https://localhost:8080/"
        },
        "id": "8UCWBMd166D1",
        "outputId": "37d3792e-6817-4a46-de86-bb4c2e328052"
      },
      "execution_count": 404,
      "outputs": [
        {
          "output_type": "stream",
          "name": "stdout",
          "text": [
            "The index is: Index(['O', 'D', 'S', 'N', 'M'], dtype='object')\n",
            "The values are: [ 121 4232   64 2154  715]\n"
          ]
        }
      ]
    },
    {
      "cell_type": "code",
      "execution_count": 405,
      "metadata": {
        "colab": {
          "base_uri": "https://localhost:8080/"
        },
        "id": "0UP1FUzzu00F",
        "outputId": "03c98976-e340-4679-f816-e787e2e79c22"
      },
      "outputs": [
        {
          "output_type": "execute_result",
          "data": {
            "text/plain": [
              "1"
            ]
          },
          "metadata": {},
          "execution_count": 405
        }
      ],
      "source": [
        "# We can look up values out of a Series by position...\n",
        "s.iloc[0]"
      ]
    },
    {
      "cell_type": "markdown",
      "source": [
        "#My example 60\n"
      ],
      "metadata": {
        "id": "NFhvlRUtIBqt"
      }
    },
    {
      "cell_type": "code",
      "source": [
        "Y.iloc[0]"
      ],
      "metadata": {
        "colab": {
          "base_uri": "https://localhost:8080/"
        },
        "id": "JB4Vau0I7Gb9",
        "outputId": "2c0bd84e-57eb-459b-b7ea-b0110538a358"
      },
      "execution_count": 406,
      "outputs": [
        {
          "output_type": "execute_result",
          "data": {
            "text/plain": [
              "121"
            ]
          },
          "metadata": {},
          "execution_count": 406
        }
      ]
    },
    {
      "cell_type": "code",
      "execution_count": 407,
      "metadata": {
        "colab": {
          "base_uri": "https://localhost:8080/"
        },
        "id": "842bHkJ4u00F",
        "outputId": "0e0fc31f-7603-4d5d-d817-0e7fb6d54d3e"
      },
      "outputs": [
        {
          "output_type": "execute_result",
          "data": {
            "text/plain": [
              "1"
            ]
          },
          "metadata": {},
          "execution_count": 407
        }
      ],
      "source": [
        "# ... or by label.\n",
        "s.loc['a']"
      ]
    },
    {
      "cell_type": "markdown",
      "source": [
        "#My example 61\n"
      ],
      "metadata": {
        "id": "hE6V2oIaICdJ"
      }
    },
    {
      "cell_type": "code",
      "source": [
        "Y.loc['D']"
      ],
      "metadata": {
        "colab": {
          "base_uri": "https://localhost:8080/"
        },
        "id": "i7qw_XSE7KJF",
        "outputId": "26850e79-955a-44c4-b793-7b8ee560584b"
      },
      "execution_count": 408,
      "outputs": [
        {
          "output_type": "execute_result",
          "data": {
            "text/plain": [
              "4232"
            ]
          },
          "metadata": {},
          "execution_count": 408
        }
      ]
    },
    {
      "cell_type": "code",
      "execution_count": 409,
      "metadata": {
        "colab": {
          "base_uri": "https://localhost:8080/"
        },
        "id": "rGTbJGSfu00F",
        "outputId": "c14dcdfc-8918-4677-f133-3147845b22af"
      },
      "outputs": [
        {
          "output_type": "execute_result",
          "data": {
            "text/plain": [
              "a    1\n",
              "b    2\n",
              "dtype: int64"
            ]
          },
          "metadata": {},
          "execution_count": 409
        }
      ],
      "source": [
        "# Slicing works as expected...\n",
        "s.iloc[:2]"
      ]
    },
    {
      "cell_type": "markdown",
      "source": [
        "#My example 62\n"
      ],
      "metadata": {
        "id": "HnijR0QEIDNw"
      }
    },
    {
      "cell_type": "code",
      "source": [
        "Y.iloc[:2]"
      ],
      "metadata": {
        "colab": {
          "base_uri": "https://localhost:8080/"
        },
        "id": "33qwbuUf7Uel",
        "outputId": "7c335797-4785-432d-9685-f2068c0aa1aa"
      },
      "execution_count": 410,
      "outputs": [
        {
          "output_type": "execute_result",
          "data": {
            "text/plain": [
              "O     121\n",
              "D    4232\n",
              "dtype: int64"
            ]
          },
          "metadata": {},
          "execution_count": 410
        }
      ]
    },
    {
      "cell_type": "code",
      "execution_count": 411,
      "metadata": {
        "colab": {
          "base_uri": "https://localhost:8080/"
        },
        "id": "nXT033ouu00F",
        "outputId": "68f25e87-f457-406e-e5f9-f3651f3a05ba"
      },
      "outputs": [
        {
          "output_type": "execute_result",
          "data": {
            "text/plain": [
              "a    1\n",
              "b    2\n",
              "c    3\n",
              "dtype: int64"
            ]
          },
          "metadata": {},
          "execution_count": 411
        }
      ],
      "source": [
        "# ...but it works with labels too!\n",
        "s.loc[:'c']"
      ]
    },
    {
      "cell_type": "markdown",
      "source": [
        "#My example 63\n"
      ],
      "metadata": {
        "id": "xQmg4sWXIEMU"
      }
    },
    {
      "cell_type": "code",
      "source": [
        "Y.loc[:'O']"
      ],
      "metadata": {
        "colab": {
          "base_uri": "https://localhost:8080/"
        },
        "id": "nWXFSV5q7bRt",
        "outputId": "c61aec5a-2f59-49e7-995e-3e676823fea2"
      },
      "execution_count": 412,
      "outputs": [
        {
          "output_type": "execute_result",
          "data": {
            "text/plain": [
              "O    121\n",
              "dtype: int64"
            ]
          },
          "metadata": {},
          "execution_count": 412
        }
      ]
    },
    {
      "cell_type": "code",
      "execution_count": 413,
      "metadata": {
        "colab": {
          "base_uri": "https://localhost:8080/"
        },
        "id": "kYIm2yA9u00G",
        "outputId": "bee06e40-2dea-40c9-f58d-37f633b6555b"
      },
      "outputs": [
        {
          "output_type": "execute_result",
          "data": {
            "text/plain": [
              "a    1\n",
              "e    5\n",
              "dtype: int64"
            ]
          },
          "metadata": {},
          "execution_count": 413
        }
      ],
      "source": [
        "# Fancy indexing works the same as in numpy.\n",
        "s.iloc[[0, -1]]"
      ]
    },
    {
      "cell_type": "markdown",
      "source": [
        "#My example 64\n"
      ],
      "metadata": {
        "id": "IxyKkH0OIE9j"
      }
    },
    {
      "cell_type": "code",
      "source": [
        "Y.iloc[[0, -1]]"
      ],
      "metadata": {
        "colab": {
          "base_uri": "https://localhost:8080/"
        },
        "id": "hCTQSUJK7g0V",
        "outputId": "820fca77-7893-4a56-db12-4c9d93b3952b"
      },
      "execution_count": 414,
      "outputs": [
        {
          "output_type": "execute_result",
          "data": {
            "text/plain": [
              "O    121\n",
              "M    715\n",
              "dtype: int64"
            ]
          },
          "metadata": {},
          "execution_count": 414
        }
      ]
    },
    {
      "cell_type": "code",
      "execution_count": 415,
      "metadata": {
        "colab": {
          "base_uri": "https://localhost:8080/"
        },
        "id": "ntcx0FGQu00G",
        "outputId": "1aa07bc5-3338-4395-8e55-bf4d8678f8bc"
      },
      "outputs": [
        {
          "output_type": "execute_result",
          "data": {
            "text/plain": [
              "c    3\n",
              "d    4\n",
              "e    5\n",
              "dtype: int64"
            ]
          },
          "metadata": {},
          "execution_count": 415
        }
      ],
      "source": [
        "# As does boolean masking.\n",
        "s.loc[s > 2]"
      ]
    },
    {
      "cell_type": "markdown",
      "source": [
        "#My example 65\n"
      ],
      "metadata": {
        "id": "rvpH3pKcIGKB"
      }
    },
    {
      "cell_type": "code",
      "source": [
        "Y.loc[Y > 144]"
      ],
      "metadata": {
        "colab": {
          "base_uri": "https://localhost:8080/"
        },
        "id": "oqddpchK7mLm",
        "outputId": "80659092-2702-42a9-f286-13b437f63254"
      },
      "execution_count": 416,
      "outputs": [
        {
          "output_type": "execute_result",
          "data": {
            "text/plain": [
              "D    4232\n",
              "N    2154\n",
              "M     715\n",
              "dtype: int64"
            ]
          },
          "metadata": {},
          "execution_count": 416
        }
      ]
    },
    {
      "cell_type": "code",
      "execution_count": 417,
      "metadata": {
        "colab": {
          "base_uri": "https://localhost:8080/"
        },
        "id": "_B3jH5AEu00G",
        "outputId": "71fa5416-37bb-4533-85ec-2ac26f522b77"
      },
      "outputs": [
        {
          "output_type": "execute_result",
          "data": {
            "text/plain": [
              "a    10.0\n",
              "c    20.0\n",
              "d    30.0\n",
              "z    40.0\n",
              "dtype: float64"
            ]
          },
          "metadata": {},
          "execution_count": 417
        }
      ],
      "source": [
        "other_s = pd.Series({'a': 10.0, 'c': 20.0, 'd': 30.0, 'z': 40.0})\n",
        "other_s"
      ]
    },
    {
      "cell_type": "markdown",
      "source": [
        "#My example 66\n"
      ],
      "metadata": {
        "id": "_Uz3EXJaIHYY"
      }
    },
    {
      "cell_type": "code",
      "source": [
        "other_y = pd.Series({'O': 619, 'D': 2001.0, 'S': 170, 'Z': 20})\n",
        "other_y"
      ],
      "metadata": {
        "colab": {
          "base_uri": "https://localhost:8080/"
        },
        "id": "0tRuUM-67tBA",
        "outputId": "9487707e-7c5d-43af-cc55-446064e65761"
      },
      "execution_count": 418,
      "outputs": [
        {
          "output_type": "execute_result",
          "data": {
            "text/plain": [
              "O     619.0\n",
              "D    2001.0\n",
              "S     170.0\n",
              "Z      20.0\n",
              "dtype: float64"
            ]
          },
          "metadata": {},
          "execution_count": 418
        }
      ]
    },
    {
      "cell_type": "markdown",
      "metadata": {
        "id": "yWcrh8Oou00K"
      },
      "source": [
        "# Pandas Review\n",
        "\n",
        "- Pandas extends numpy with more complex datastructures and algorithms.\n",
        "- If you understand numpy, you understand 90% of pandas.\n",
        "- `groupby`, `set_index`, and `unstack` are powerful tools for working with categorical data.\n",
        "- Avocado prices are surprisingly interesting :)"
      ]
    },
    {
      "cell_type": "markdown",
      "metadata": {
        "id": "-pyV_p0_u00K"
      },
      "source": [
        "# FIN DEL COMUNICADO"
      ]
    }
  ],
  "metadata": {
    "celltoolbar": "Slideshow",
    "kernelspec": {
      "display_name": "Python 3",
      "language": "python",
      "name": "python3"
    },
    "language_info": {
      "codemirror_mode": {
        "name": "ipython",
        "version": 3
      },
      "file_extension": ".py",
      "mimetype": "text/x-python",
      "name": "python",
      "nbconvert_exporter": "python",
      "pygments_lexer": "ipython3",
      "version": "3.5.2"
    },
    "livereveal": {
      "start_slideshow_at": "selected"
    },
    "name": "Main.ipynb",
    "colab": {
      "name": "osanabria_ScottsSanderson.ipynb",
      "provenance": [],
      "collapsed_sections": [
        "raz80HNYu0zt",
        "_RYyYy8ku0z4",
        "B-H0-Fqeu0z5",
        "iGfN_AA-u00B",
        "j4FOCHLZu00C",
        "yWcrh8Oou00K",
        "-pyV_p0_u00K"
      ]
    }
  },
  "nbformat": 4,
  "nbformat_minor": 0
}